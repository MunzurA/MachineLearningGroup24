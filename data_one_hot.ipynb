{
 "cells": [
  {
   "cell_type": "markdown",
   "metadata": {},
   "source": [
    "## One Hot Encoding \n",
    "Here we will turn the categorical features of the dataset into numeric features, so we can use the dataset on various machine learning models"
   ]
  },
  {
   "cell_type": "code",
   "execution_count": null,
   "metadata": {},
   "outputs": [
    {
     "name": "stdout",
     "output_type": "stream",
     "text": [
      "<class 'pandas.core.frame.DataFrame'>\n",
      "Index: 62122 entries, 56229 to 1307795865634995863\n",
      "Data columns (total 55 columns):\n",
      " #   Column                                        Non-Null Count  Dtype  \n",
      "---  ------                                        --------------  -----  \n",
      " 0   name                                          62122 non-null  object \n",
      " 1   host_id                                       62122 non-null  int64  \n",
      " 2   host_since                                    62120 non-null  object \n",
      " 3   host_location                                 45702 non-null  object \n",
      " 4   host_response_time                            54776 non-null  object \n",
      " 5   host_response_rate                            54776 non-null  float64\n",
      " 6   host_acceptance_rate                          57194 non-null  float64\n",
      " 7   host_is_superhost                             62122 non-null  bool   \n",
      " 8   host_listings_count                           62120 non-null  float64\n",
      " 9   host_total_listings_count                     62120 non-null  float64\n",
      " 10  host_verifications                            62120 non-null  object \n",
      " 11  host_has_profile_pic                          62122 non-null  bool   \n",
      " 12  host_identity_verified                        62122 non-null  bool   \n",
      " 13  neighbourhood_cleansed                        62122 non-null  object \n",
      " 14  latitude                                      62122 non-null  float64\n",
      " 15  longitude                                     62122 non-null  float64\n",
      " 16  property_type                                 62122 non-null  object \n",
      " 17  room_type                                     62122 non-null  object \n",
      " 18  accommodates                                  62122 non-null  int64  \n",
      " 19  bathrooms                                     62041 non-null  float64\n",
      " 20  bathrooms_text                                62016 non-null  object \n",
      " 21  bedrooms                                      62008 non-null  float64\n",
      " 22  beds                                          61990 non-null  float64\n",
      " 23  amenities                                     62122 non-null  object \n",
      " 24  price                                         62122 non-null  float64\n",
      " 25  minimum_nights                                62122 non-null  int64  \n",
      " 26  maximum_nights                                62122 non-null  int64  \n",
      " 27  minimum_minimum_nights                        62122 non-null  float64\n",
      " 28  maximum_minimum_nights                        62122 non-null  float64\n",
      " 29  minimum_maximum_nights                        62122 non-null  float64\n",
      " 30  maximum_maximum_nights                        62122 non-null  float64\n",
      " 31  minimum_nights_avg_ntm                        62122 non-null  float64\n",
      " 32  maximum_nights_avg_ntm                        62122 non-null  float64\n",
      " 33  availability_30                               62122 non-null  int64  \n",
      " 34  availability_60                               62122 non-null  int64  \n",
      " 35  availability_90                               62122 non-null  int64  \n",
      " 36  availability_365                              62122 non-null  int64  \n",
      " 37  number_of_reviews                             62122 non-null  int64  \n",
      " 38  number_of_reviews_ltm                         62122 non-null  int64  \n",
      " 39  number_of_reviews_l30d                        62122 non-null  int64  \n",
      " 40  first_review                                  47956 non-null  object \n",
      " 41  last_review                                   47956 non-null  object \n",
      " 42  review_scores_rating                          47956 non-null  float64\n",
      " 43  review_scores_accuracy                        47953 non-null  float64\n",
      " 44  review_scores_cleanliness                     47953 non-null  float64\n",
      " 45  review_scores_checkin                         47952 non-null  float64\n",
      " 46  review_scores_communication                   47953 non-null  float64\n",
      " 47  review_scores_location                        47952 non-null  float64\n",
      " 48  review_scores_value                           47952 non-null  float64\n",
      " 49  instant_bookable                              62122 non-null  bool   \n",
      " 50  calculated_host_listings_count                62122 non-null  int64  \n",
      " 51  calculated_host_listings_count_entire_homes   62122 non-null  int64  \n",
      " 52  calculated_host_listings_count_private_rooms  62122 non-null  int64  \n",
      " 53  calculated_host_listings_count_shared_rooms   62122 non-null  int64  \n",
      " 54  reviews_per_month                             47956 non-null  float64\n",
      "dtypes: bool(4), float64(24), int64(15), object(12)\n",
      "memory usage: 24.9+ MB\n"
     ]
    }
   ],
   "source": [
    "import pandas as pd\n",
    "from sklearn.preprocessing import OneHotEncoder\n",
    "\n",
    "df = pd.read_csv('data/listings_cleaned.csv.gz', index_col=0, compression='gzip')\n",
    "\n",
    "df.info()"
   ]
  },
  {
   "cell_type": "code",
   "execution_count": 9,
   "metadata": {},
   "outputs": [
    {
     "name": "stdout",
     "output_type": "stream",
     "text": [
      "<class 'pandas.core.frame.DataFrame'>\n",
      "Index: 62122 entries, 56229 to 1307795865634995863\n",
      "Data columns (total 16 columns):\n",
      " #   Column                  Non-Null Count  Dtype \n",
      "---  ------                  --------------  ----- \n",
      " 0   name                    62122 non-null  object\n",
      " 1   host_since              62120 non-null  object\n",
      " 2   host_location           45702 non-null  object\n",
      " 3   host_response_time      54776 non-null  object\n",
      " 4   host_is_superhost       62122 non-null  bool  \n",
      " 5   host_verifications      62120 non-null  object\n",
      " 6   host_has_profile_pic    62122 non-null  bool  \n",
      " 7   host_identity_verified  62122 non-null  bool  \n",
      " 8   neighbourhood_cleansed  62122 non-null  object\n",
      " 9   property_type           62122 non-null  object\n",
      " 10  room_type               62122 non-null  object\n",
      " 11  bathrooms_text          62016 non-null  object\n",
      " 12  amenities               62122 non-null  object\n",
      " 13  first_review            47956 non-null  object\n",
      " 14  last_review             47956 non-null  object\n",
      " 15  instant_bookable        62122 non-null  bool  \n",
      "dtypes: bool(4), object(12)\n",
      "memory usage: 6.4+ MB\n"
     ]
    }
   ],
   "source": [
    "df.select_dtypes(exclude=['float64', 'int64']).info()"
   ]
  },
  {
   "cell_type": "code",
   "execution_count": 13,
   "metadata": {},
   "outputs": [
    {
     "data": {
      "text/html": [
       "<div>\n",
       "<style scoped>\n",
       "    .dataframe tbody tr th:only-of-type {\n",
       "        vertical-align: middle;\n",
       "    }\n",
       "\n",
       "    .dataframe tbody tr th {\n",
       "        vertical-align: top;\n",
       "    }\n",
       "\n",
       "    .dataframe thead th {\n",
       "        text-align: right;\n",
       "    }\n",
       "</style>\n",
       "<table border=\"1\" class=\"dataframe\">\n",
       "  <thead>\n",
       "    <tr style=\"text-align: right;\">\n",
       "      <th></th>\n",
       "      <th>host_is_superhost</th>\n",
       "      <th>host_has_profile_pic</th>\n",
       "      <th>host_identity_verified</th>\n",
       "      <th>instant_bookable</th>\n",
       "    </tr>\n",
       "    <tr>\n",
       "      <th>id</th>\n",
       "      <th></th>\n",
       "      <th></th>\n",
       "      <th></th>\n",
       "      <th></th>\n",
       "    </tr>\n",
       "  </thead>\n",
       "  <tbody>\n",
       "    <tr>\n",
       "      <th>56229</th>\n",
       "      <td>0</td>\n",
       "      <td>1</td>\n",
       "      <td>1</td>\n",
       "      <td>0</td>\n",
       "    </tr>\n",
       "    <tr>\n",
       "      <th>62970</th>\n",
       "      <td>1</td>\n",
       "      <td>1</td>\n",
       "      <td>1</td>\n",
       "      <td>1</td>\n",
       "    </tr>\n",
       "    <tr>\n",
       "      <th>63948</th>\n",
       "      <td>0</td>\n",
       "      <td>1</td>\n",
       "      <td>1</td>\n",
       "      <td>0</td>\n",
       "    </tr>\n",
       "    <tr>\n",
       "      <th>66772</th>\n",
       "      <td>0</td>\n",
       "      <td>1</td>\n",
       "      <td>1</td>\n",
       "      <td>0</td>\n",
       "    </tr>\n",
       "    <tr>\n",
       "      <th>69198</th>\n",
       "      <td>0</td>\n",
       "      <td>1</td>\n",
       "      <td>1</td>\n",
       "      <td>0</td>\n",
       "    </tr>\n",
       "  </tbody>\n",
       "</table>\n",
       "</div>"
      ],
      "text/plain": [
       "       host_is_superhost  host_has_profile_pic  host_identity_verified  \\\n",
       "id                                                                       \n",
       "56229                  0                     1                       1   \n",
       "62970                  1                     1                       1   \n",
       "63948                  0                     1                       1   \n",
       "66772                  0                     1                       1   \n",
       "69198                  0                     1                       1   \n",
       "\n",
       "       instant_bookable  \n",
       "id                       \n",
       "56229                 0  \n",
       "62970                 1  \n",
       "63948                 0  \n",
       "66772                 0  \n",
       "69198                 0  "
      ]
     },
     "execution_count": 13,
     "metadata": {},
     "output_type": "execute_result"
    }
   ],
   "source": [
    "# identify boolean columns\n",
    "boolean_columns = ['host_is_superhost', 'host_has_profile_pic', 'host_identity_verified', 'instant_bookable']\n",
    "\n",
    "# convert boolean columns to integers\n",
    "df[boolean_columns] = df[boolean_columns].astype(int)\n",
    "\n",
    "# Check the first few rows\n",
    "df[boolean_columns].head()"
   ]
  },
  {
   "cell_type": "code",
   "execution_count": 15,
   "metadata": {},
   "outputs": [
    {
     "name": "stdout",
     "output_type": "stream",
     "text": [
      "<class 'pandas.core.frame.DataFrame'>\n",
      "Index: 62122 entries, 56229 to 1307795865634995863\n",
      "Data columns (total 12 columns):\n",
      " #   Column                  Non-Null Count  Dtype \n",
      "---  ------                  --------------  ----- \n",
      " 0   name                    62122 non-null  object\n",
      " 1   host_since              62120 non-null  object\n",
      " 2   host_location           45702 non-null  object\n",
      " 3   host_response_time      54776 non-null  object\n",
      " 4   host_verifications      62120 non-null  object\n",
      " 5   neighbourhood_cleansed  62122 non-null  object\n",
      " 6   property_type           62122 non-null  object\n",
      " 7   room_type               62122 non-null  object\n",
      " 8   bathrooms_text          62016 non-null  object\n",
      " 9   amenities               62122 non-null  object\n",
      " 10  first_review            47956 non-null  object\n",
      " 11  last_review             47956 non-null  object\n",
      "dtypes: object(12)\n",
      "memory usage: 6.2+ MB\n"
     ]
    }
   ],
   "source": [
    "df.select_dtypes(exclude=['float64', 'int64', 'int32']).info()"
   ]
  },
  {
   "cell_type": "code",
   "execution_count": 28,
   "metadata": {},
   "outputs": [
    {
     "data": {
      "text/plain": [
       "56229    2010-10-26\n",
       "62970    2011-01-04\n",
       "63948    2011-09-19\n",
       "66772    2011-01-14\n",
       "69198    2012-07-01\n",
       "Name: first_review, dtype: object"
      ]
     },
     "execution_count": 28,
     "metadata": {},
     "output_type": "execute_result"
    }
   ],
   "source": [
    "from sklearn.preprocessing import MultiLabelBinarizer\n",
    "\n",
    "# Check if 'host_verifications' column exists, if not create it with default empty lists\n",
    "if 'host_verifications' not in df.columns:\n",
    "\tdf['host_verifications'] = [[] for _ in range(len(df))]\n",
    "\n",
    "# Convert 'host_verifications' from string to list (if stored as a string)\n",
    "df[\"host_verifications\"] = df[\"host_verifications\"].apply(lambda x: x.strip(\"[]\").replace(\"'\", \"\").split(\", \") if isinstance(x, str) else [])\n",
    "\n",
    "# Use MultiLabelBinarizer for one-hot encoding\n",
    "mlb = MultiLabelBinarizer()\n",
    "verification_encoded = pd.DataFrame(mlb.fit_transform(df[\"host_verifications\"]), columns=mlb.classes_)\n",
    "\n",
    "# Add encoded columns back to the dataframe\n",
    "df = pd.concat([df, verification_encoded], axis=1)\n",
    "\n",
    "# Drop the original 'host_verifications' column\n",
    "df.drop(columns=[\"host_verifications\"], inplace=True)\n",
    "\n",
    "# Display the first few rows\n",
    "df['first_review'].head()"
   ]
  }
 ],
 "metadata": {
  "kernelspec": {
   "display_name": "Python 3",
   "language": "python",
   "name": "python3"
  },
  "language_info": {
   "codemirror_mode": {
    "name": "ipython",
    "version": 3
   },
   "file_extension": ".py",
   "mimetype": "text/x-python",
   "name": "python",
   "nbconvert_exporter": "python",
   "pygments_lexer": "ipython3",
   "version": "3.11.9"
  }
 },
 "nbformat": 4,
 "nbformat_minor": 2
}
