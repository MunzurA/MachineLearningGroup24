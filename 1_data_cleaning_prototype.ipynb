{
 "cells": [
  {
   "cell_type": "code",
   "execution_count": 9,
   "metadata": {},
   "outputs": [],
   "source": [
    "import pandas as pd\n",
    "from datetime import datetime\n",
    "from ast import literal_eval"
   ]
  },
  {
   "cell_type": "markdown",
   "metadata": {},
   "source": [
    "## Load Data"
   ]
  },
  {
   "cell_type": "code",
   "execution_count": 10,
   "metadata": {},
   "outputs": [],
   "source": [
    "df = pd.read_csv('data/listings.csv.gz', index_col=0, compression='gzip', )"
   ]
  },
  {
   "cell_type": "markdown",
   "metadata": {},
   "source": [
    "## Drop Irrelevant Features"
   ]
  },
  {
   "cell_type": "code",
   "execution_count": 11,
   "metadata": {},
   "outputs": [
    {
     "name": "stdout",
     "output_type": "stream",
     "text": [
      "<class 'pandas.core.frame.DataFrame'>\n",
      "Index: 95144 entries, 56229 to 1307795865634995863\n",
      "Data columns (total 74 columns):\n",
      " #   Column                                        Non-Null Count  Dtype  \n",
      "---  ------                                        --------------  -----  \n",
      " 0   listing_url                                   95144 non-null  object \n",
      " 1   scrape_id                                     95144 non-null  int64  \n",
      " 2   last_scraped                                  95144 non-null  object \n",
      " 3   source                                        95144 non-null  object \n",
      " 4   name                                          95144 non-null  object \n",
      " 5   description                                   92196 non-null  object \n",
      " 6   neighborhood_overview                         43463 non-null  object \n",
      " 7   picture_url                                   95134 non-null  object \n",
      " 8   host_id                                       95144 non-null  int64  \n",
      " 9   host_url                                      95144 non-null  object \n",
      " 10  host_name                                     95137 non-null  object \n",
      " 11  host_since                                    95137 non-null  object \n",
      " 12  host_location                                 72911 non-null  object \n",
      " 13  host_about                                    48352 non-null  object \n",
      " 14  host_response_time                            62709 non-null  object \n",
      " 15  host_response_rate                            62709 non-null  object \n",
      " 16  host_acceptance_rate                          67888 non-null  object \n",
      " 17  host_is_superhost                             93396 non-null  object \n",
      " 18  host_thumbnail_url                            95137 non-null  object \n",
      " 19  host_picture_url                              95137 non-null  object \n",
      " 20  host_neighbourhood                            46317 non-null  object \n",
      " 21  host_listings_count                           95137 non-null  float64\n",
      " 22  host_total_listings_count                     95137 non-null  float64\n",
      " 23  host_verifications                            95137 non-null  object \n",
      " 24  host_has_profile_pic                          95137 non-null  object \n",
      " 25  host_identity_verified                        95137 non-null  object \n",
      " 26  neighbourhood                                 43464 non-null  object \n",
      " 27  neighbourhood_cleansed                        95144 non-null  object \n",
      " 28  neighbourhood_group_cleansed                  0 non-null      float64\n",
      " 29  latitude                                      95144 non-null  float64\n",
      " 30  longitude                                     95144 non-null  float64\n",
      " 31  property_type                                 95144 non-null  object \n",
      " 32  room_type                                     95144 non-null  object \n",
      " 33  accommodates                                  95144 non-null  int64  \n",
      " 34  bathrooms                                     62744 non-null  float64\n",
      " 35  bathrooms_text                                94988 non-null  object \n",
      " 36  bedrooms                                      82794 non-null  float64\n",
      " 37  beds                                          62690 non-null  float64\n",
      " 38  amenities                                     95144 non-null  object \n",
      " 39  price                                         62777 non-null  object \n",
      " 40  minimum_nights                                95144 non-null  int64  \n",
      " 41  maximum_nights                                95144 non-null  int64  \n",
      " 42  minimum_minimum_nights                        95142 non-null  float64\n",
      " 43  maximum_minimum_nights                        95142 non-null  float64\n",
      " 44  minimum_maximum_nights                        95142 non-null  float64\n",
      " 45  maximum_maximum_nights                        95142 non-null  float64\n",
      " 46  minimum_nights_avg_ntm                        95142 non-null  float64\n",
      " 47  maximum_nights_avg_ntm                        95142 non-null  float64\n",
      " 48  calendar_updated                              0 non-null      float64\n",
      " 49  has_availability                              90680 non-null  object \n",
      " 50  availability_30                               95144 non-null  int64  \n",
      " 51  availability_60                               95144 non-null  int64  \n",
      " 52  availability_90                               95144 non-null  int64  \n",
      " 53  availability_365                              95144 non-null  int64  \n",
      " 54  calendar_last_scraped                         95144 non-null  object \n",
      " 55  number_of_reviews                             95144 non-null  int64  \n",
      " 56  number_of_reviews_ltm                         95144 non-null  int64  \n",
      " 57  number_of_reviews_l30d                        95144 non-null  int64  \n",
      " 58  first_review                                  70560 non-null  object \n",
      " 59  last_review                                   70560 non-null  object \n",
      " 60  review_scores_rating                          70560 non-null  float64\n",
      " 61  review_scores_accuracy                        70544 non-null  float64\n",
      " 62  review_scores_cleanliness                     70551 non-null  float64\n",
      " 63  review_scores_checkin                         70515 non-null  float64\n",
      " 64  review_scores_communication                   70538 non-null  float64\n",
      " 65  review_scores_location                        70513 non-null  float64\n",
      " 66  review_scores_value                           70513 non-null  float64\n",
      " 67  license                                       0 non-null      float64\n",
      " 68  instant_bookable                              95144 non-null  object \n",
      " 69  calculated_host_listings_count                95144 non-null  int64  \n",
      " 70  calculated_host_listings_count_entire_homes   95144 non-null  int64  \n",
      " 71  calculated_host_listings_count_private_rooms  95144 non-null  int64  \n",
      " 72  calculated_host_listings_count_shared_rooms   95144 non-null  int64  \n",
      " 73  reviews_per_month                             70560 non-null  float64\n",
      "dtypes: float64(24), int64(16), object(34)\n",
      "memory usage: 54.4+ MB\n"
     ]
    }
   ],
   "source": [
    "df.info()"
   ]
  },
  {
   "cell_type": "markdown",
   "metadata": {},
   "source": [
    "Furthermore, remove features with more than 50% missing values."
   ]
  },
  {
   "cell_type": "code",
   "execution_count": 12,
   "metadata": {},
   "outputs": [
    {
     "name": "stdout",
     "output_type": "stream",
     "text": [
      "Features with more than 50% missing values:\n",
      "Index(['neighborhood_overview', 'host_neighbourhood', 'neighbourhood',\n",
      "       'neighbourhood_group_cleansed', 'calendar_updated', 'license'],\n",
      "      dtype='object')\n"
     ]
    }
   ],
   "source": [
    "print(f\"Features with more than 50% missing values:\\n{df.columns[df.isnull().mean() > .5]}\")\n",
    "\n",
    "df = df.dropna(thresh=.5*len(df), axis=1)"
   ]
  },
  {
   "cell_type": "markdown",
   "metadata": {},
   "source": [
    "Remove columns which hold only one unique value, making it redundant to include for training machine learning models."
   ]
  },
  {
   "cell_type": "code",
   "execution_count": 13,
   "metadata": {},
   "outputs": [
    {
     "name": "stdout",
     "output_type": "stream",
     "text": [
      "Features with only one unique value:\n",
      "Index(['scrape_id', 'has_availability'], dtype='object')\n"
     ]
    }
   ],
   "source": [
    "print(f\"Features with only one unique value:\\n{df.columns[df.nunique() == 1]}\")\n",
    "\n",
    "df = df.loc[:,df.apply(pd.Series.nunique) != 1]"
   ]
  },
  {
   "cell_type": "code",
   "execution_count": 14,
   "metadata": {},
   "outputs": [
    {
     "name": "stdout",
     "output_type": "stream",
     "text": [
      "<class 'pandas.core.frame.DataFrame'>\n",
      "Index: 95144 entries, 56229 to 1307795865634995863\n",
      "Data columns (total 66 columns):\n",
      " #   Column                                        Non-Null Count  Dtype  \n",
      "---  ------                                        --------------  -----  \n",
      " 0   listing_url                                   95144 non-null  object \n",
      " 1   last_scraped                                  95144 non-null  object \n",
      " 2   source                                        95144 non-null  object \n",
      " 3   name                                          95144 non-null  object \n",
      " 4   description                                   92196 non-null  object \n",
      " 5   picture_url                                   95134 non-null  object \n",
      " 6   host_id                                       95144 non-null  int64  \n",
      " 7   host_url                                      95144 non-null  object \n",
      " 8   host_name                                     95137 non-null  object \n",
      " 9   host_since                                    95137 non-null  object \n",
      " 10  host_location                                 72911 non-null  object \n",
      " 11  host_about                                    48352 non-null  object \n",
      " 12  host_response_time                            62709 non-null  object \n",
      " 13  host_response_rate                            62709 non-null  object \n",
      " 14  host_acceptance_rate                          67888 non-null  object \n",
      " 15  host_is_superhost                             93396 non-null  object \n",
      " 16  host_thumbnail_url                            95137 non-null  object \n",
      " 17  host_picture_url                              95137 non-null  object \n",
      " 18  host_listings_count                           95137 non-null  float64\n",
      " 19  host_total_listings_count                     95137 non-null  float64\n",
      " 20  host_verifications                            95137 non-null  object \n",
      " 21  host_has_profile_pic                          95137 non-null  object \n",
      " 22  host_identity_verified                        95137 non-null  object \n",
      " 23  neighbourhood_cleansed                        95144 non-null  object \n",
      " 24  latitude                                      95144 non-null  float64\n",
      " 25  longitude                                     95144 non-null  float64\n",
      " 26  property_type                                 95144 non-null  object \n",
      " 27  room_type                                     95144 non-null  object \n",
      " 28  accommodates                                  95144 non-null  int64  \n",
      " 29  bathrooms                                     62744 non-null  float64\n",
      " 30  bathrooms_text                                94988 non-null  object \n",
      " 31  bedrooms                                      82794 non-null  float64\n",
      " 32  beds                                          62690 non-null  float64\n",
      " 33  amenities                                     95144 non-null  object \n",
      " 34  price                                         62777 non-null  object \n",
      " 35  minimum_nights                                95144 non-null  int64  \n",
      " 36  maximum_nights                                95144 non-null  int64  \n",
      " 37  minimum_minimum_nights                        95142 non-null  float64\n",
      " 38  maximum_minimum_nights                        95142 non-null  float64\n",
      " 39  minimum_maximum_nights                        95142 non-null  float64\n",
      " 40  maximum_maximum_nights                        95142 non-null  float64\n",
      " 41  minimum_nights_avg_ntm                        95142 non-null  float64\n",
      " 42  maximum_nights_avg_ntm                        95142 non-null  float64\n",
      " 43  availability_30                               95144 non-null  int64  \n",
      " 44  availability_60                               95144 non-null  int64  \n",
      " 45  availability_90                               95144 non-null  int64  \n",
      " 46  availability_365                              95144 non-null  int64  \n",
      " 47  calendar_last_scraped                         95144 non-null  object \n",
      " 48  number_of_reviews                             95144 non-null  int64  \n",
      " 49  number_of_reviews_ltm                         95144 non-null  int64  \n",
      " 50  number_of_reviews_l30d                        95144 non-null  int64  \n",
      " 51  first_review                                  70560 non-null  object \n",
      " 52  last_review                                   70560 non-null  object \n",
      " 53  review_scores_rating                          70560 non-null  float64\n",
      " 54  review_scores_accuracy                        70544 non-null  float64\n",
      " 55  review_scores_cleanliness                     70551 non-null  float64\n",
      " 56  review_scores_checkin                         70515 non-null  float64\n",
      " 57  review_scores_communication                   70538 non-null  float64\n",
      " 58  review_scores_location                        70513 non-null  float64\n",
      " 59  review_scores_value                           70513 non-null  float64\n",
      " 60  instant_bookable                              95144 non-null  object \n",
      " 61  calculated_host_listings_count                95144 non-null  int64  \n",
      " 62  calculated_host_listings_count_entire_homes   95144 non-null  int64  \n",
      " 63  calculated_host_listings_count_private_rooms  95144 non-null  int64  \n",
      " 64  calculated_host_listings_count_shared_rooms   95144 non-null  int64  \n",
      " 65  reviews_per_month                             70560 non-null  float64\n",
      "dtypes: float64(21), int64(15), object(30)\n",
      "memory usage: 48.6+ MB\n"
     ]
    }
   ],
   "source": [
    "df.info()"
   ]
  },
  {
   "cell_type": "code",
   "execution_count": 15,
   "metadata": {},
   "outputs": [
    {
     "name": "stdout",
     "output_type": "stream",
     "text": [
      "<class 'pandas.core.frame.DataFrame'>\n",
      "Index: 95144 entries, 56229 to 1307795865634995863\n",
      "Data columns (total 20 columns):\n",
      " #   Column                     Non-Null Count  Dtype  \n",
      "---  ------                     --------------  -----  \n",
      " 0   host_since                 95137 non-null  object \n",
      " 1   host_response_time         62709 non-null  object \n",
      " 2   host_is_superhost          93396 non-null  object \n",
      " 3   host_total_listings_count  95137 non-null  float64\n",
      " 4   host_has_profile_pic       95137 non-null  object \n",
      " 5   host_identity_verified     95137 non-null  object \n",
      " 6   neighbourhood_cleansed     95144 non-null  object \n",
      " 7   room_type                  95144 non-null  object \n",
      " 8   accommodates               95144 non-null  int64  \n",
      " 9   bathrooms                  62744 non-null  float64\n",
      " 10  beds                       62690 non-null  float64\n",
      " 11  amenities                  95144 non-null  object \n",
      " 12  price                      62777 non-null  object \n",
      " 13  minimum_nights             95144 non-null  int64  \n",
      " 14  maximum_nights             95144 non-null  int64  \n",
      " 15  number_of_reviews          95144 non-null  int64  \n",
      " 16  first_review               70560 non-null  object \n",
      " 17  review_scores_rating       70560 non-null  float64\n",
      " 18  instant_bookable           95144 non-null  object \n",
      " 19  reviews_per_month          70560 non-null  float64\n",
      "dtypes: float64(5), int64(4), object(11)\n",
      "memory usage: 15.2+ MB\n"
     ]
    }
   ],
   "source": [
    "feats = [\n",
    "    'listing_url',\n",
    "    'last_scraped',\n",
    "    'source',\n",
    "    'name',\n",
    "    'description',\n",
    "    'picture_url',\n",
    "    'host_id',\n",
    "    'host_url',\n",
    "    'host_name',\n",
    "    'host_location',\n",
    "    'host_about',\n",
    "    'host_response_rate',\n",
    "    'host_acceptance_rate',\n",
    "    'host_thumbnail_url',\n",
    "    'host_picture_url',\n",
    "    'host_listings_count',\n",
    "    'host_verifications',\n",
    "    'latitude',\n",
    "    'longitude',\n",
    "    'property_type',\n",
    "    'bathrooms_text',\n",
    "    'bedrooms',\n",
    "    'minimum_minimum_nights',\n",
    "    'maximum_minimum_nights',\n",
    "    'minimum_maximum_nights',\n",
    "    'maximum_maximum_nights',\n",
    "    'minimum_nights_avg_ntm',\n",
    "    'maximum_nights_avg_ntm',\n",
    "    'availability_30',\n",
    "    'availability_60',\n",
    "    'availability_90',\n",
    "    'availability_365',\n",
    "    'calendar_last_scraped',\n",
    "    'number_of_reviews_ltm',\n",
    "    'number_of_reviews_l30d',\n",
    "    'last_review',\n",
    "    'review_scores_accuracy',\n",
    "    'review_scores_cleanliness',\n",
    "    'review_scores_checkin',\n",
    "    'review_scores_communication',\n",
    "    'review_scores_location',\n",
    "    'review_scores_value',\n",
    "    'calculated_host_listings_count',\n",
    "    'calculated_host_listings_count_entire_homes',\n",
    "    'calculated_host_listings_count_private_rooms',\n",
    "    'calculated_host_listings_count_shared_rooms',\n",
    "    ]\n",
    "df = df.drop(feats, axis=1)\n",
    "df.info()"
   ]
  },
  {
   "cell_type": "markdown",
   "metadata": {},
   "source": [
    "## Stardardizing and Formatting Data"
   ]
  },
  {
   "cell_type": "markdown",
   "metadata": {},
   "source": [
    "Convert the price from object to float"
   ]
  },
  {
   "cell_type": "code",
   "execution_count": 16,
   "metadata": {},
   "outputs": [],
   "source": [
    "df['price'] = df['price'].str.replace('$', '').str.replace(',', '').astype(float)"
   ]
  },
  {
   "cell_type": "markdown",
   "metadata": {},
   "source": [
    "Convert f/t entries to boolean [0, 1] entries"
   ]
  },
  {
   "cell_type": "code",
   "execution_count": 17,
   "metadata": {},
   "outputs": [],
   "source": [
    "boolean_cols = [\n",
    "    'host_is_superhost',\n",
    "    'host_has_profile_pic',\n",
    "    'host_identity_verified',\n",
    "    'instant_bookable'\n",
    "]\n",
    "\n",
    "m = {'t': True, 'f': False}\n",
    "\n",
    "for col in boolean_cols:\n",
    "    df[col] = df[col].map(m).astype(bool).astype(int)"
   ]
  },
  {
   "cell_type": "markdown",
   "metadata": {},
   "source": [
    "Convert date strings to DateTime objects"
   ]
  },
  {
   "cell_type": "code",
   "execution_count": 18,
   "metadata": {},
   "outputs": [],
   "source": [
    "baseline_date = datetime(2025, 3, 1)\n",
    "\n",
    "date_cols = [\n",
    "    'host_since',\n",
    "    'first_review',\n",
    "]\n",
    "\n",
    "for col in date_cols:\n",
    "    df[col] = pd.to_datetime(df[col])\n",
    "    df[col] = (baseline_date - df[col]).dt.days"
   ]
  },
  {
   "cell_type": "markdown",
   "metadata": {},
   "source": [
    "Convert host_response_time into a numerical value"
   ]
  },
  {
   "cell_type": "code",
   "execution_count": 19,
   "metadata": {},
   "outputs": [],
   "source": [
    "m = {'within an hour': 1, 'within a few hours': 2, 'within a day': 3, 'a few days or more': 4}\n",
    "\n",
    "df['host_response_time'] = df['host_response_time'].map(m).astype(float)"
   ]
  },
  {
   "cell_type": "markdown",
   "metadata": {},
   "source": [
    "Convert neighbourhood_cleansed and room_type to a numeric value through one-hot encoding"
   ]
  },
  {
   "cell_type": "code",
   "execution_count": 20,
   "metadata": {},
   "outputs": [],
   "source": [
    "# Neighbourhood\n",
    "dummies = pd.get_dummies(df['neighbourhood_cleansed']).astype(int)\n",
    "df = df.join(dummies)\n",
    "df.drop('neighbourhood_cleansed', axis=1, inplace=True)\n",
    "\n",
    "# Room type\n",
    "dummies = pd.get_dummies(df['room_type']).astype(int)\n",
    "df = df.join(dummies)\n",
    "df.drop('room_type', axis=1, inplace=True)"
   ]
  },
  {
   "cell_type": "markdown",
   "metadata": {},
   "source": [
    "Convert the list of amenities to a integer count of the list"
   ]
  },
  {
   "cell_type": "code",
   "execution_count": 21,
   "metadata": {},
   "outputs": [],
   "source": [
    "df['amenities'] = df['amenities'].apply(literal_eval).apply(len)"
   ]
  },
  {
   "cell_type": "code",
   "execution_count": 22,
   "metadata": {},
   "outputs": [
    {
     "name": "stdout",
     "output_type": "stream",
     "text": [
      "<class 'pandas.core.frame.DataFrame'>\n",
      "Index: 95144 entries, 56229 to 1307795865634995863\n",
      "Data columns (total 55 columns):\n",
      " #   Column                     Non-Null Count  Dtype  \n",
      "---  ------                     --------------  -----  \n",
      " 0   host_since                 95137 non-null  float64\n",
      " 1   host_response_time         62709 non-null  float64\n",
      " 2   host_is_superhost          95144 non-null  int64  \n",
      " 3   host_total_listings_count  95137 non-null  float64\n",
      " 4   host_has_profile_pic       95144 non-null  int64  \n",
      " 5   host_identity_verified     95144 non-null  int64  \n",
      " 6   accommodates               95144 non-null  int64  \n",
      " 7   bathrooms                  62744 non-null  float64\n",
      " 8   beds                       62690 non-null  float64\n",
      " 9   amenities                  95144 non-null  int64  \n",
      " 10  price                      62777 non-null  float64\n",
      " 11  minimum_nights             95144 non-null  int64  \n",
      " 12  maximum_nights             95144 non-null  int64  \n",
      " 13  number_of_reviews          95144 non-null  int64  \n",
      " 14  first_review               70560 non-null  float64\n",
      " 15  review_scores_rating       70560 non-null  float64\n",
      " 16  instant_bookable           95144 non-null  int64  \n",
      " 17  reviews_per_month          70560 non-null  float64\n",
      " 18  Barking and Dagenham       95144 non-null  int64  \n",
      " 19  Barnet                     95144 non-null  int64  \n",
      " 20  Bexley                     95144 non-null  int64  \n",
      " 21  Brent                      95144 non-null  int64  \n",
      " 22  Bromley                    95144 non-null  int64  \n",
      " 23  Camden                     95144 non-null  int64  \n",
      " 24  City of London             95144 non-null  int64  \n",
      " 25  Croydon                    95144 non-null  int64  \n",
      " 26  Ealing                     95144 non-null  int64  \n",
      " 27  Enfield                    95144 non-null  int64  \n",
      " 28  Greenwich                  95144 non-null  int64  \n",
      " 29  Hackney                    95144 non-null  int64  \n",
      " 30  Hammersmith and Fulham     95144 non-null  int64  \n",
      " 31  Haringey                   95144 non-null  int64  \n",
      " 32  Harrow                     95144 non-null  int64  \n",
      " 33  Havering                   95144 non-null  int64  \n",
      " 34  Hillingdon                 95144 non-null  int64  \n",
      " 35  Hounslow                   95144 non-null  int64  \n",
      " 36  Islington                  95144 non-null  int64  \n",
      " 37  Kensington and Chelsea     95144 non-null  int64  \n",
      " 38  Kingston upon Thames       95144 non-null  int64  \n",
      " 39  Lambeth                    95144 non-null  int64  \n",
      " 40  Lewisham                   95144 non-null  int64  \n",
      " 41  Merton                     95144 non-null  int64  \n",
      " 42  Newham                     95144 non-null  int64  \n",
      " 43  Redbridge                  95144 non-null  int64  \n",
      " 44  Richmond upon Thames       95144 non-null  int64  \n",
      " 45  Southwark                  95144 non-null  int64  \n",
      " 46  Sutton                     95144 non-null  int64  \n",
      " 47  Tower Hamlets              95144 non-null  int64  \n",
      " 48  Waltham Forest             95144 non-null  int64  \n",
      " 49  Wandsworth                 95144 non-null  int64  \n",
      " 50  Westminster                95144 non-null  int64  \n",
      " 51  Entire home/apt            95144 non-null  int64  \n",
      " 52  Hotel room                 95144 non-null  int64  \n",
      " 53  Private room               95144 non-null  int64  \n",
      " 54  Shared room                95144 non-null  int64  \n",
      "dtypes: float64(9), int64(46)\n",
      "memory usage: 42.7 MB\n"
     ]
    }
   ],
   "source": [
    "df.info()"
   ]
  },
  {
   "cell_type": "markdown",
   "metadata": {},
   "source": [
    "## Missing Data"
   ]
  },
  {
   "cell_type": "code",
   "execution_count": 23,
   "metadata": {},
   "outputs": [
    {
     "data": {
      "text/plain": [
       "host_since                       7\n",
       "host_response_time           32435\n",
       "host_is_superhost                0\n",
       "host_total_listings_count        7\n",
       "host_has_profile_pic             0\n",
       "host_identity_verified           0\n",
       "accommodates                     0\n",
       "bathrooms                    32400\n",
       "beds                         32454\n",
       "amenities                        0\n",
       "price                        32367\n",
       "minimum_nights                   0\n",
       "maximum_nights                   0\n",
       "number_of_reviews                0\n",
       "first_review                 24584\n",
       "review_scores_rating         24584\n",
       "instant_bookable                 0\n",
       "reviews_per_month            24584\n",
       "Barking and Dagenham             0\n",
       "Barnet                           0\n",
       "Bexley                           0\n",
       "Brent                            0\n",
       "Bromley                          0\n",
       "Camden                           0\n",
       "City of London                   0\n",
       "Croydon                          0\n",
       "Ealing                           0\n",
       "Enfield                          0\n",
       "Greenwich                        0\n",
       "Hackney                          0\n",
       "Hammersmith and Fulham           0\n",
       "Haringey                         0\n",
       "Harrow                           0\n",
       "Havering                         0\n",
       "Hillingdon                       0\n",
       "Hounslow                         0\n",
       "Islington                        0\n",
       "Kensington and Chelsea           0\n",
       "Kingston upon Thames             0\n",
       "Lambeth                          0\n",
       "Lewisham                         0\n",
       "Merton                           0\n",
       "Newham                           0\n",
       "Redbridge                        0\n",
       "Richmond upon Thames             0\n",
       "Southwark                        0\n",
       "Sutton                           0\n",
       "Tower Hamlets                    0\n",
       "Waltham Forest                   0\n",
       "Wandsworth                       0\n",
       "Westminster                      0\n",
       "Entire home/apt                  0\n",
       "Hotel room                       0\n",
       "Private room                     0\n",
       "Shared room                      0\n",
       "dtype: int64"
      ]
     },
     "execution_count": 23,
     "metadata": {},
     "output_type": "execute_result"
    }
   ],
   "source": [
    "df.isnull().sum()"
   ]
  },
  {
   "cell_type": "markdown",
   "metadata": {},
   "source": [
    "Remove all rows of data where the price is unknown, as these cannot be used to train or test a model to predict the price."
   ]
  },
  {
   "cell_type": "code",
   "execution_count": 24,
   "metadata": {},
   "outputs": [
    {
     "name": "stdout",
     "output_type": "stream",
     "text": [
      "Number of rows containing no price: 32367\n"
     ]
    }
   ],
   "source": [
    "print(f\"Number of rows containing no price: {df['price'].isnull().sum()}\")\n",
    "\n",
    "df = df.dropna(subset=['price'])"
   ]
  },
  {
   "cell_type": "markdown",
   "metadata": {},
   "source": [
    "Remove duplicate entries from the DataFrame"
   ]
  },
  {
   "cell_type": "code",
   "execution_count": 25,
   "metadata": {},
   "outputs": [
    {
     "name": "stdout",
     "output_type": "stream",
     "text": [
      "Number of duplicate entries: 258\n"
     ]
    }
   ],
   "source": [
    "print(f\"Number of duplicate entries: {df.duplicated().sum()}\")\n",
    "\n",
    "df = df.drop_duplicates()"
   ]
  },
  {
   "cell_type": "markdown",
   "metadata": {},
   "source": [
    "Remove rows which have more than half of the features missing."
   ]
  },
  {
   "cell_type": "code",
   "execution_count": 26,
   "metadata": {},
   "outputs": [
    {
     "name": "stdout",
     "output_type": "stream",
     "text": [
      "Number of rows missing more than 50% of features: 0\n"
     ]
    }
   ],
   "source": [
    "print(f\"Number of rows missing more than 50% of features: {df.isnull().mean(axis=1).gt(.5).sum()}\")\n",
    "\n",
    "df = df[df.isnull().mean(axis=1) < .5]"
   ]
  },
  {
   "cell_type": "code",
   "execution_count": 27,
   "metadata": {},
   "outputs": [
    {
     "name": "stdout",
     "output_type": "stream",
     "text": [
      "host_since                       2\n",
      "host_response_time            7432\n",
      "host_is_superhost                0\n",
      "host_total_listings_count        2\n",
      "host_has_profile_pic             0\n",
      "host_identity_verified           0\n",
      "accommodates                     0\n",
      "bathrooms                       83\n",
      "beds                           130\n",
      "amenities                        0\n",
      "price                            0\n",
      "minimum_nights                   0\n",
      "maximum_nights                   0\n",
      "number_of_reviews                0\n",
      "first_review                 14267\n",
      "review_scores_rating         14267\n",
      "instant_bookable                 0\n",
      "reviews_per_month            14267\n",
      "Barking and Dagenham             0\n",
      "Barnet                           0\n",
      "Bexley                           0\n",
      "Brent                            0\n",
      "Bromley                          0\n",
      "Camden                           0\n",
      "City of London                   0\n",
      "Croydon                          0\n",
      "Ealing                           0\n",
      "Enfield                          0\n",
      "Greenwich                        0\n",
      "Hackney                          0\n",
      "Hammersmith and Fulham           0\n",
      "Haringey                         0\n",
      "Harrow                           0\n",
      "Havering                         0\n",
      "Hillingdon                       0\n",
      "Hounslow                         0\n",
      "Islington                        0\n",
      "Kensington and Chelsea           0\n",
      "Kingston upon Thames             0\n",
      "Lambeth                          0\n",
      "Lewisham                         0\n",
      "Merton                           0\n",
      "Newham                           0\n",
      "Redbridge                        0\n",
      "Richmond upon Thames             0\n",
      "Southwark                        0\n",
      "Sutton                           0\n",
      "Tower Hamlets                    0\n",
      "Waltham Forest                   0\n",
      "Wandsworth                       0\n",
      "Westminster                      0\n",
      "Entire home/apt                  0\n",
      "Hotel room                       0\n",
      "Private room                     0\n",
      "Shared room                      0\n"
     ]
    }
   ],
   "source": [
    "print(df.isnull().sum().to_string())"
   ]
  },
  {
   "cell_type": "markdown",
   "metadata": {},
   "source": [
    "## Outliers"
   ]
  },
  {
   "cell_type": "markdown",
   "metadata": {},
   "source": [
    "Remove all rows where the price is higher than the 99th percentile. This is to remove faulty listings, which can negatively impact the model."
   ]
  },
  {
   "cell_type": "code",
   "execution_count": 28,
   "metadata": {},
   "outputs": [
    {
     "name": "stdout",
     "output_type": "stream",
     "text": [
      "Number of outlier above 99th percentile: 625\n"
     ]
    }
   ],
   "source": [
    "print(f\"Number of outlier above 99th percentile: {len(df[df['price'] > df['price'].quantile(0.99)])}\")\n",
    "\n",
    "df = df[df['price'] < df['price'].quantile(0.99)]"
   ]
  },
  {
   "cell_type": "markdown",
   "metadata": {},
   "source": [
    "---"
   ]
  },
  {
   "cell_type": "code",
   "execution_count": 29,
   "metadata": {},
   "outputs": [],
   "source": [
    "df.to_csv('data/listings_cleaned.csv.gz', index=True, compression='gzip')"
   ]
  }
 ],
 "metadata": {
  "kernelspec": {
   "display_name": ".venv",
   "language": "python",
   "name": "python3"
  },
  "language_info": {
   "codemirror_mode": {
    "name": "ipython",
    "version": 3
   },
   "file_extension": ".py",
   "mimetype": "text/x-python",
   "name": "python",
   "nbconvert_exporter": "python",
   "pygments_lexer": "ipython3",
   "version": "3.11.9"
  }
 },
 "nbformat": 4,
 "nbformat_minor": 2
}
