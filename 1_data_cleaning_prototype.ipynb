{
 "cells": [
  {
   "cell_type": "code",
   "execution_count": 1,
   "metadata": {},
   "outputs": [],
   "source": [
    "import pandas as pd"
   ]
  },
  {
   "cell_type": "markdown",
   "metadata": {},
   "source": [
    "## Load Data"
   ]
  },
  {
   "cell_type": "code",
   "execution_count": 2,
   "metadata": {},
   "outputs": [],
   "source": [
    "df = pd.read_csv('data/listings.csv.gz', index_col=0, compression='gzip', )"
   ]
  },
  {
   "cell_type": "markdown",
   "metadata": {},
   "source": [
    "## Drop Irrelevant Features"
   ]
  },
  {
   "cell_type": "code",
   "execution_count": 3,
   "metadata": {},
   "outputs": [
    {
     "name": "stdout",
     "output_type": "stream",
     "text": [
      "<class 'pandas.core.frame.DataFrame'>\n",
      "Index: 95144 entries, 56229 to 1307795865634995863\n",
      "Data columns (total 74 columns):\n",
      " #   Column                                        Non-Null Count  Dtype  \n",
      "---  ------                                        --------------  -----  \n",
      " 0   listing_url                                   95144 non-null  object \n",
      " 1   scrape_id                                     95144 non-null  int64  \n",
      " 2   last_scraped                                  95144 non-null  object \n",
      " 3   source                                        95144 non-null  object \n",
      " 4   name                                          95144 non-null  object \n",
      " 5   description                                   92196 non-null  object \n",
      " 6   neighborhood_overview                         43463 non-null  object \n",
      " 7   picture_url                                   95134 non-null  object \n",
      " 8   host_id                                       95144 non-null  int64  \n",
      " 9   host_url                                      95144 non-null  object \n",
      " 10  host_name                                     95137 non-null  object \n",
      " 11  host_since                                    95137 non-null  object \n",
      " 12  host_location                                 72911 non-null  object \n",
      " 13  host_about                                    48352 non-null  object \n",
      " 14  host_response_time                            62709 non-null  object \n",
      " 15  host_response_rate                            62709 non-null  object \n",
      " 16  host_acceptance_rate                          67888 non-null  object \n",
      " 17  host_is_superhost                             93396 non-null  object \n",
      " 18  host_thumbnail_url                            95137 non-null  object \n",
      " 19  host_picture_url                              95137 non-null  object \n",
      " 20  host_neighbourhood                            46317 non-null  object \n",
      " 21  host_listings_count                           95137 non-null  float64\n",
      " 22  host_total_listings_count                     95137 non-null  float64\n",
      " 23  host_verifications                            95137 non-null  object \n",
      " 24  host_has_profile_pic                          95137 non-null  object \n",
      " 25  host_identity_verified                        95137 non-null  object \n",
      " 26  neighbourhood                                 43464 non-null  object \n",
      " 27  neighbourhood_cleansed                        95144 non-null  object \n",
      " 28  neighbourhood_group_cleansed                  0 non-null      float64\n",
      " 29  latitude                                      95144 non-null  float64\n",
      " 30  longitude                                     95144 non-null  float64\n",
      " 31  property_type                                 95144 non-null  object \n",
      " 32  room_type                                     95144 non-null  object \n",
      " 33  accommodates                                  95144 non-null  int64  \n",
      " 34  bathrooms                                     62744 non-null  float64\n",
      " 35  bathrooms_text                                94988 non-null  object \n",
      " 36  bedrooms                                      82794 non-null  float64\n",
      " 37  beds                                          62690 non-null  float64\n",
      " 38  amenities                                     95144 non-null  object \n",
      " 39  price                                         62777 non-null  object \n",
      " 40  minimum_nights                                95144 non-null  int64  \n",
      " 41  maximum_nights                                95144 non-null  int64  \n",
      " 42  minimum_minimum_nights                        95142 non-null  float64\n",
      " 43  maximum_minimum_nights                        95142 non-null  float64\n",
      " 44  minimum_maximum_nights                        95142 non-null  float64\n",
      " 45  maximum_maximum_nights                        95142 non-null  float64\n",
      " 46  minimum_nights_avg_ntm                        95142 non-null  float64\n",
      " 47  maximum_nights_avg_ntm                        95142 non-null  float64\n",
      " 48  calendar_updated                              0 non-null      float64\n",
      " 49  has_availability                              90680 non-null  object \n",
      " 50  availability_30                               95144 non-null  int64  \n",
      " 51  availability_60                               95144 non-null  int64  \n",
      " 52  availability_90                               95144 non-null  int64  \n",
      " 53  availability_365                              95144 non-null  int64  \n",
      " 54  calendar_last_scraped                         95144 non-null  object \n",
      " 55  number_of_reviews                             95144 non-null  int64  \n",
      " 56  number_of_reviews_ltm                         95144 non-null  int64  \n",
      " 57  number_of_reviews_l30d                        95144 non-null  int64  \n",
      " 58  first_review                                  70560 non-null  object \n",
      " 59  last_review                                   70560 non-null  object \n",
      " 60  review_scores_rating                          70560 non-null  float64\n",
      " 61  review_scores_accuracy                        70544 non-null  float64\n",
      " 62  review_scores_cleanliness                     70551 non-null  float64\n",
      " 63  review_scores_checkin                         70515 non-null  float64\n",
      " 64  review_scores_communication                   70538 non-null  float64\n",
      " 65  review_scores_location                        70513 non-null  float64\n",
      " 66  review_scores_value                           70513 non-null  float64\n",
      " 67  license                                       0 non-null      float64\n",
      " 68  instant_bookable                              95144 non-null  object \n",
      " 69  calculated_host_listings_count                95144 non-null  int64  \n",
      " 70  calculated_host_listings_count_entire_homes   95144 non-null  int64  \n",
      " 71  calculated_host_listings_count_private_rooms  95144 non-null  int64  \n",
      " 72  calculated_host_listings_count_shared_rooms   95144 non-null  int64  \n",
      " 73  reviews_per_month                             70560 non-null  float64\n",
      "dtypes: float64(24), int64(16), object(34)\n",
      "memory usage: 54.4+ MB\n"
     ]
    }
   ],
   "source": [
    "df.info()"
   ]
  },
  {
   "cell_type": "markdown",
   "metadata": {},
   "source": [
    "Drop features which will certainly not contribute to a better machine learning model, as they mostly consist of scraping-data, textual-info, and urls."
   ]
  },
  {
   "cell_type": "code",
   "execution_count": 4,
   "metadata": {},
   "outputs": [],
   "source": [
    "feats = [\n",
    "    'listing_url',\n",
    "    'scrape_id',\n",
    "    'last_scraped',\n",
    "    'source',\n",
    "    'description',\n",
    "    'neighborhood_overview',\n",
    "    'picture_url',\n",
    "    'host_url',\n",
    "    'host_name',\n",
    "    'host_about',\n",
    "    'host_thumbnail_url',\n",
    "    'host_picture_url',\n",
    "    'calendar_last_scraped'\n",
    "    ]\n",
    "df = df.drop(feats, axis=1)"
   ]
  },
  {
   "cell_type": "markdown",
   "metadata": {},
   "source": [
    "Furthermore, remove features with more than 50% missing values."
   ]
  },
  {
   "cell_type": "code",
   "execution_count": 5,
   "metadata": {},
   "outputs": [
    {
     "name": "stdout",
     "output_type": "stream",
     "text": [
      "Features with more than 50% missing values:\n",
      "Index(['host_neighbourhood', 'neighbourhood', 'neighbourhood_group_cleansed',\n",
      "       'calendar_updated', 'license'],\n",
      "      dtype='object')\n"
     ]
    }
   ],
   "source": [
    "print(f\"Features with more than 50% missing values:\\n{df.columns[df.isnull().mean() > .5]}\")\n",
    "\n",
    "df = df.dropna(thresh=.5*len(df), axis=1)"
   ]
  },
  {
   "cell_type": "markdown",
   "metadata": {},
   "source": [
    "Remove columns which hold only one unique value, making it redundant to include for training machine learning models."
   ]
  },
  {
   "cell_type": "code",
   "execution_count": 6,
   "metadata": {},
   "outputs": [
    {
     "name": "stdout",
     "output_type": "stream",
     "text": [
      "Features with only one unique value:\n",
      "Index(['has_availability'], dtype='object')\n"
     ]
    }
   ],
   "source": [
    "print(f\"Features with only one unique value:\\n{df.columns[df.nunique() == 1]}\")\n",
    "\n",
    "df = df.loc[:,df.apply(pd.Series.nunique) != 1]"
   ]
  },
  {
   "cell_type": "code",
   "execution_count": 7,
   "metadata": {},
   "outputs": [
    {
     "name": "stdout",
     "output_type": "stream",
     "text": [
      "<class 'pandas.core.frame.DataFrame'>\n",
      "Index: 95144 entries, 56229 to 1307795865634995863\n",
      "Data columns (total 55 columns):\n",
      " #   Column                                        Non-Null Count  Dtype  \n",
      "---  ------                                        --------------  -----  \n",
      " 0   name                                          95144 non-null  object \n",
      " 1   host_id                                       95144 non-null  int64  \n",
      " 2   host_since                                    95137 non-null  object \n",
      " 3   host_location                                 72911 non-null  object \n",
      " 4   host_response_time                            62709 non-null  object \n",
      " 5   host_response_rate                            62709 non-null  object \n",
      " 6   host_acceptance_rate                          67888 non-null  object \n",
      " 7   host_is_superhost                             93396 non-null  object \n",
      " 8   host_listings_count                           95137 non-null  float64\n",
      " 9   host_total_listings_count                     95137 non-null  float64\n",
      " 10  host_verifications                            95137 non-null  object \n",
      " 11  host_has_profile_pic                          95137 non-null  object \n",
      " 12  host_identity_verified                        95137 non-null  object \n",
      " 13  neighbourhood_cleansed                        95144 non-null  object \n",
      " 14  latitude                                      95144 non-null  float64\n",
      " 15  longitude                                     95144 non-null  float64\n",
      " 16  property_type                                 95144 non-null  object \n",
      " 17  room_type                                     95144 non-null  object \n",
      " 18  accommodates                                  95144 non-null  int64  \n",
      " 19  bathrooms                                     62744 non-null  float64\n",
      " 20  bathrooms_text                                94988 non-null  object \n",
      " 21  bedrooms                                      82794 non-null  float64\n",
      " 22  beds                                          62690 non-null  float64\n",
      " 23  amenities                                     95144 non-null  object \n",
      " 24  price                                         62777 non-null  object \n",
      " 25  minimum_nights                                95144 non-null  int64  \n",
      " 26  maximum_nights                                95144 non-null  int64  \n",
      " 27  minimum_minimum_nights                        95142 non-null  float64\n",
      " 28  maximum_minimum_nights                        95142 non-null  float64\n",
      " 29  minimum_maximum_nights                        95142 non-null  float64\n",
      " 30  maximum_maximum_nights                        95142 non-null  float64\n",
      " 31  minimum_nights_avg_ntm                        95142 non-null  float64\n",
      " 32  maximum_nights_avg_ntm                        95142 non-null  float64\n",
      " 33  availability_30                               95144 non-null  int64  \n",
      " 34  availability_60                               95144 non-null  int64  \n",
      " 35  availability_90                               95144 non-null  int64  \n",
      " 36  availability_365                              95144 non-null  int64  \n",
      " 37  number_of_reviews                             95144 non-null  int64  \n",
      " 38  number_of_reviews_ltm                         95144 non-null  int64  \n",
      " 39  number_of_reviews_l30d                        95144 non-null  int64  \n",
      " 40  first_review                                  70560 non-null  object \n",
      " 41  last_review                                   70560 non-null  object \n",
      " 42  review_scores_rating                          70560 non-null  float64\n",
      " 43  review_scores_accuracy                        70544 non-null  float64\n",
      " 44  review_scores_cleanliness                     70551 non-null  float64\n",
      " 45  review_scores_checkin                         70515 non-null  float64\n",
      " 46  review_scores_communication                   70538 non-null  float64\n",
      " 47  review_scores_location                        70513 non-null  float64\n",
      " 48  review_scores_value                           70513 non-null  float64\n",
      " 49  instant_bookable                              95144 non-null  object \n",
      " 50  calculated_host_listings_count                95144 non-null  int64  \n",
      " 51  calculated_host_listings_count_entire_homes   95144 non-null  int64  \n",
      " 52  calculated_host_listings_count_private_rooms  95144 non-null  int64  \n",
      " 53  calculated_host_listings_count_shared_rooms   95144 non-null  int64  \n",
      " 54  reviews_per_month                             70560 non-null  float64\n",
      "dtypes: float64(21), int64(15), object(19)\n",
      "memory usage: 40.6+ MB\n"
     ]
    }
   ],
   "source": [
    "df.info()"
   ]
  },
  {
   "cell_type": "markdown",
   "metadata": {},
   "source": [
    "## Stardardizing and Formatting Data"
   ]
  },
  {
   "cell_type": "markdown",
   "metadata": {},
   "source": [
    "Convert the price from object to float"
   ]
  },
  {
   "cell_type": "code",
   "execution_count": 8,
   "metadata": {},
   "outputs": [],
   "source": [
    "df['price'] = df['price'].str.replace('$', '').str.replace(',', '').astype(float)"
   ]
  },
  {
   "cell_type": "markdown",
   "metadata": {},
   "source": [
    "Convert percentages to decimal floats"
   ]
  },
  {
   "cell_type": "code",
   "execution_count": 9,
   "metadata": {},
   "outputs": [],
   "source": [
    "percentage_cols = [\n",
    "    'host_response_rate',\n",
    "    'host_acceptance_rate'\n",
    "]\n",
    "\n",
    "for col in percentage_cols:\n",
    "    df[col] = df[col].str.rstrip('%').astype(float) / 100"
   ]
  },
  {
   "cell_type": "markdown",
   "metadata": {},
   "source": [
    "Convert f/t entries to booleans"
   ]
  },
  {
   "cell_type": "code",
   "execution_count": 10,
   "metadata": {},
   "outputs": [],
   "source": [
    "boolean_cols = [\n",
    "    'host_is_superhost',\n",
    "    'host_has_profile_pic',\n",
    "    'host_identity_verified',\n",
    "    'instant_bookable'\n",
    "]\n",
    "\n",
    "m = {'t': True, 'f': False}\n",
    "\n",
    "for col in boolean_cols:\n",
    "    df[col] = df[col].map(m).astype(bool)"
   ]
  },
  {
   "cell_type": "markdown",
   "metadata": {},
   "source": [
    "Convert date strings to DateTime objects"
   ]
  },
  {
   "cell_type": "code",
   "execution_count": 11,
   "metadata": {},
   "outputs": [],
   "source": [
    "date_cols = [\n",
    "    'host_since',\n",
    "    'first_review',\n",
    "    'last_review'\n",
    "]\n",
    "\n",
    "for col in date_cols:\n",
    "    df[col] = pd.to_datetime(df[col])"
   ]
  },
  {
   "cell_type": "code",
   "execution_count": 12,
   "metadata": {},
   "outputs": [
    {
     "name": "stdout",
     "output_type": "stream",
     "text": [
      "<class 'pandas.core.frame.DataFrame'>\n",
      "Index: 95144 entries, 56229 to 1307795865634995863\n",
      "Data columns (total 55 columns):\n",
      " #   Column                                        Non-Null Count  Dtype         \n",
      "---  ------                                        --------------  -----         \n",
      " 0   name                                          95144 non-null  object        \n",
      " 1   host_id                                       95144 non-null  int64         \n",
      " 2   host_since                                    95137 non-null  datetime64[ns]\n",
      " 3   host_location                                 72911 non-null  object        \n",
      " 4   host_response_time                            62709 non-null  object        \n",
      " 5   host_response_rate                            62709 non-null  float64       \n",
      " 6   host_acceptance_rate                          67888 non-null  float64       \n",
      " 7   host_is_superhost                             95144 non-null  bool          \n",
      " 8   host_listings_count                           95137 non-null  float64       \n",
      " 9   host_total_listings_count                     95137 non-null  float64       \n",
      " 10  host_verifications                            95137 non-null  object        \n",
      " 11  host_has_profile_pic                          95144 non-null  bool          \n",
      " 12  host_identity_verified                        95144 non-null  bool          \n",
      " 13  neighbourhood_cleansed                        95144 non-null  object        \n",
      " 14  latitude                                      95144 non-null  float64       \n",
      " 15  longitude                                     95144 non-null  float64       \n",
      " 16  property_type                                 95144 non-null  object        \n",
      " 17  room_type                                     95144 non-null  object        \n",
      " 18  accommodates                                  95144 non-null  int64         \n",
      " 19  bathrooms                                     62744 non-null  float64       \n",
      " 20  bathrooms_text                                94988 non-null  object        \n",
      " 21  bedrooms                                      82794 non-null  float64       \n",
      " 22  beds                                          62690 non-null  float64       \n",
      " 23  amenities                                     95144 non-null  object        \n",
      " 24  price                                         62777 non-null  float64       \n",
      " 25  minimum_nights                                95144 non-null  int64         \n",
      " 26  maximum_nights                                95144 non-null  int64         \n",
      " 27  minimum_minimum_nights                        95142 non-null  float64       \n",
      " 28  maximum_minimum_nights                        95142 non-null  float64       \n",
      " 29  minimum_maximum_nights                        95142 non-null  float64       \n",
      " 30  maximum_maximum_nights                        95142 non-null  float64       \n",
      " 31  minimum_nights_avg_ntm                        95142 non-null  float64       \n",
      " 32  maximum_nights_avg_ntm                        95142 non-null  float64       \n",
      " 33  availability_30                               95144 non-null  int64         \n",
      " 34  availability_60                               95144 non-null  int64         \n",
      " 35  availability_90                               95144 non-null  int64         \n",
      " 36  availability_365                              95144 non-null  int64         \n",
      " 37  number_of_reviews                             95144 non-null  int64         \n",
      " 38  number_of_reviews_ltm                         95144 non-null  int64         \n",
      " 39  number_of_reviews_l30d                        95144 non-null  int64         \n",
      " 40  first_review                                  70560 non-null  datetime64[ns]\n",
      " 41  last_review                                   70560 non-null  datetime64[ns]\n",
      " 42  review_scores_rating                          70560 non-null  float64       \n",
      " 43  review_scores_accuracy                        70544 non-null  float64       \n",
      " 44  review_scores_cleanliness                     70551 non-null  float64       \n",
      " 45  review_scores_checkin                         70515 non-null  float64       \n",
      " 46  review_scores_communication                   70538 non-null  float64       \n",
      " 47  review_scores_location                        70513 non-null  float64       \n",
      " 48  review_scores_value                           70513 non-null  float64       \n",
      " 49  instant_bookable                              95144 non-null  bool          \n",
      " 50  calculated_host_listings_count                95144 non-null  int64         \n",
      " 51  calculated_host_listings_count_entire_homes   95144 non-null  int64         \n",
      " 52  calculated_host_listings_count_private_rooms  95144 non-null  int64         \n",
      " 53  calculated_host_listings_count_shared_rooms   95144 non-null  int64         \n",
      " 54  reviews_per_month                             70560 non-null  float64       \n",
      "dtypes: bool(4), datetime64[ns](3), float64(24), int64(15), object(9)\n",
      "memory usage: 38.1+ MB\n",
      "\n",
      "\n",
      "<class 'pandas.core.frame.DataFrame'>\n",
      "Index: 95144 entries, 56229 to 1307795865634995863\n",
      "Data columns (total 9 columns):\n",
      " #   Column                  Non-Null Count  Dtype \n",
      "---  ------                  --------------  ----- \n",
      " 0   name                    95144 non-null  object\n",
      " 1   host_location           72911 non-null  object\n",
      " 2   host_response_time      62709 non-null  object\n",
      " 3   host_verifications      95137 non-null  object\n",
      " 4   neighbourhood_cleansed  95144 non-null  object\n",
      " 5   property_type           95144 non-null  object\n",
      " 6   room_type               95144 non-null  object\n",
      " 7   bathrooms_text          94988 non-null  object\n",
      " 8   amenities               95144 non-null  object\n",
      "dtypes: object(9)\n",
      "memory usage: 7.3+ MB\n"
     ]
    }
   ],
   "source": [
    "df.info()\n",
    "print(\"\\n\")\n",
    "df.select_dtypes(include=['object']).info()"
   ]
  },
  {
   "cell_type": "markdown",
   "metadata": {},
   "source": [
    "## Missing Data"
   ]
  },
  {
   "cell_type": "code",
   "execution_count": 13,
   "metadata": {},
   "outputs": [
    {
     "data": {
      "text/plain": [
       "name                                                0\n",
       "host_id                                             0\n",
       "host_since                                          7\n",
       "host_location                                   22233\n",
       "host_response_time                              32435\n",
       "host_response_rate                              32435\n",
       "host_acceptance_rate                            27256\n",
       "host_is_superhost                                   0\n",
       "host_listings_count                                 7\n",
       "host_total_listings_count                           7\n",
       "host_verifications                                  7\n",
       "host_has_profile_pic                                0\n",
       "host_identity_verified                              0\n",
       "neighbourhood_cleansed                              0\n",
       "latitude                                            0\n",
       "longitude                                           0\n",
       "property_type                                       0\n",
       "room_type                                           0\n",
       "accommodates                                        0\n",
       "bathrooms                                       32400\n",
       "bathrooms_text                                    156\n",
       "bedrooms                                        12350\n",
       "beds                                            32454\n",
       "amenities                                           0\n",
       "price                                           32367\n",
       "minimum_nights                                      0\n",
       "maximum_nights                                      0\n",
       "minimum_minimum_nights                              2\n",
       "maximum_minimum_nights                              2\n",
       "minimum_maximum_nights                              2\n",
       "maximum_maximum_nights                              2\n",
       "minimum_nights_avg_ntm                              2\n",
       "maximum_nights_avg_ntm                              2\n",
       "availability_30                                     0\n",
       "availability_60                                     0\n",
       "availability_90                                     0\n",
       "availability_365                                    0\n",
       "number_of_reviews                                   0\n",
       "number_of_reviews_ltm                               0\n",
       "number_of_reviews_l30d                              0\n",
       "first_review                                    24584\n",
       "last_review                                     24584\n",
       "review_scores_rating                            24584\n",
       "review_scores_accuracy                          24600\n",
       "review_scores_cleanliness                       24593\n",
       "review_scores_checkin                           24629\n",
       "review_scores_communication                     24606\n",
       "review_scores_location                          24631\n",
       "review_scores_value                             24631\n",
       "instant_bookable                                    0\n",
       "calculated_host_listings_count                      0\n",
       "calculated_host_listings_count_entire_homes         0\n",
       "calculated_host_listings_count_private_rooms        0\n",
       "calculated_host_listings_count_shared_rooms         0\n",
       "reviews_per_month                               24584\n",
       "dtype: int64"
      ]
     },
     "execution_count": 13,
     "metadata": {},
     "output_type": "execute_result"
    }
   ],
   "source": [
    "df.isnull().sum()"
   ]
  },
  {
   "cell_type": "markdown",
   "metadata": {},
   "source": [
    "Remove all rows of data where the price is unknown, as these cannot be used to train or test a model to predict the price."
   ]
  },
  {
   "cell_type": "code",
   "execution_count": 14,
   "metadata": {},
   "outputs": [
    {
     "name": "stdout",
     "output_type": "stream",
     "text": [
      "Number of rows containing no price: 32367\n"
     ]
    }
   ],
   "source": [
    "print(f\"Number of rows containing no price: {df['price'].isnull().sum()}\")\n",
    "\n",
    "df = df.dropna(subset=['price'])"
   ]
  },
  {
   "cell_type": "markdown",
   "metadata": {},
   "source": [
    "Remove duplicate entries from the DataFrame"
   ]
  },
  {
   "cell_type": "code",
   "execution_count": 15,
   "metadata": {},
   "outputs": [
    {
     "name": "stdout",
     "output_type": "stream",
     "text": [
      "Number of duplicate entries: 26\n"
     ]
    }
   ],
   "source": [
    "print(f\"Number of duplicate entries: {df.duplicated().sum()}\")\n",
    "\n",
    "df = df.drop_duplicates()"
   ]
  },
  {
   "cell_type": "markdown",
   "metadata": {},
   "source": [
    "Remove rows which have more than half of the features missing."
   ]
  },
  {
   "cell_type": "code",
   "execution_count": 16,
   "metadata": {},
   "outputs": [
    {
     "name": "stdout",
     "output_type": "stream",
     "text": [
      "Number of rows missing more than 50% of features: 0\n"
     ]
    }
   ],
   "source": [
    "print(f\"Number of rows missing more than 50% of features: {df.isnull().mean(axis=1).gt(.5).sum()}\")\n",
    "\n",
    "df = df[df.isnull().mean(axis=1) < .5]"
   ]
  },
  {
   "cell_type": "markdown",
   "metadata": {},
   "source": [
    "## Outliers"
   ]
  },
  {
   "cell_type": "markdown",
   "metadata": {},
   "source": [
    "Remove all rows where the price is higher than the 99th percentile. This is to remove faulty listings, which can negatively impact the model."
   ]
  },
  {
   "cell_type": "code",
   "execution_count": 19,
   "metadata": {},
   "outputs": [
    {
     "name": "stdout",
     "output_type": "stream",
     "text": [
      "Number of outlier above 99th percentile: 626\n"
     ]
    }
   ],
   "source": [
    "print(f\"Number of outlier above 99th percentile: {len(df[df['price'] > df['price'].quantile(0.99)])}\")\n",
    "\n",
    "df = df[df['price'] < df['price'].quantile(0.99)]"
   ]
  },
  {
   "cell_type": "markdown",
   "metadata": {},
   "source": [
    "---"
   ]
  },
  {
   "cell_type": "code",
   "execution_count": 20,
   "metadata": {},
   "outputs": [],
   "source": [
    "df.to_csv('data/listings_cleaned.csv.gz', index=True, compression='gzip')"
   ]
  }
 ],
 "metadata": {
  "kernelspec": {
   "display_name": ".venv",
   "language": "python",
   "name": "python3"
  },
  "language_info": {
   "codemirror_mode": {
    "name": "ipython",
    "version": 3
   },
   "file_extension": ".py",
   "mimetype": "text/x-python",
   "name": "python",
   "nbconvert_exporter": "python",
   "pygments_lexer": "ipython3",
   "version": "3.11.9"
  }
 },
 "nbformat": 4,
 "nbformat_minor": 2
}
