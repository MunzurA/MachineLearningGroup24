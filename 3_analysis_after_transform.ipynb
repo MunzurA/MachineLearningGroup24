{
 "cells": [
  {
   "cell_type": "code",
   "execution_count": null,
   "metadata": {},
   "outputs": [],
   "source": [
    "import seaborn as sns\n",
    "import matplotlib.pyplot as plt\n",
    "\n",
    "from utils.data_cleaning import load_and_clean\n",
    "from utils.pipeline import create_pipeline\n",
    "from utils import save_figure"
   ]
  },
  {
   "cell_type": "markdown",
   "metadata": {},
   "source": [
    "This Jupyter Notebook will be used to create insightfull visualizations of the data after data transformation have been applied."
   ]
  },
  {
   "cell_type": "code",
   "execution_count": null,
   "metadata": {},
   "outputs": [],
   "source": [
    "df = load_and_clean(verbose=True)\n",
    "X, y = df.drop(columns='price'), df['price']\n",
    "pipeline = create_pipeline(df, impute=False, encode=False, scale=False, feature_selection=False, model_selection=False)\n",
    "X_transformed = pipeline.fit_transform(X, y)"
   ]
  },
  {
   "cell_type": "code",
   "execution_count": null,
   "metadata": {},
   "outputs": [],
   "source": [
    "missing = X_transformed.columns[X_transformed.isna().any()]\n",
    "\n",
    "plt.figure(figsize=(10, 6))\n",
    "sns.heatmap(X_transformed[missing].isna().transpose(), cbar=False)\n",
    "plt.xticks(ticks=[], labels=[])\n",
    "plt.title('Missing Values After Conversion')\n",
    "plt.xlabel('Index')\n",
    "plt.ylabel('Features')\n",
    "save_figure(plt, 'missing_values_after_conversion', subfolder='general analysis')\n",
    "plt.show()"
   ]
  }
 ],
 "metadata": {
  "kernelspec": {
   "display_name": ".venv",
   "language": "python",
   "name": "python3"
  },
  "language_info": {
   "codemirror_mode": {
    "name": "ipython",
    "version": 3
   },
   "file_extension": ".py",
   "mimetype": "text/x-python",
   "name": "python",
   "nbconvert_exporter": "python",
   "pygments_lexer": "ipython3",
   "version": "3.11.9"
  }
 },
 "nbformat": 4,
 "nbformat_minor": 2
}
