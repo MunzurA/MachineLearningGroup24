{
 "cells": [
  {
   "cell_type": "code",
   "execution_count": null,
   "metadata": {},
   "outputs": [],
   "source": [
    "import pandas as pd\n",
    "import seaborn as sns\n",
    "import matplotlib.pyplot as plt\n",
    "import scipy.stats as stats\n",
    "\n",
    "from utils.data_cleaning import load_and_clean\n",
    "from utils import save_figure\n",
    "from utils._config import COLORS"
   ]
  },
  {
   "cell_type": "markdown",
   "metadata": {},
   "source": [
    "## Load in the Data"
   ]
  },
  {
   "cell_type": "code",
   "execution_count": null,
   "metadata": {},
   "outputs": [],
   "source": [
    "df_og = load_and_clean(drop_columns=False, drop_rows=False)\n",
    "df_clean = load_and_clean(verbose=True)"
   ]
  },
  {
   "cell_type": "markdown",
   "metadata": {},
   "source": [
    "---"
   ]
  },
  {
   "cell_type": "markdown",
   "metadata": {},
   "source": [
    "## Comparison Between Original and Cleaned Data"
   ]
  },
  {
   "cell_type": "markdown",
   "metadata": {},
   "source": [
    "Comparison between data types of the two datasets"
   ]
  },
  {
   "cell_type": "code",
   "execution_count": null,
   "metadata": {},
   "outputs": [],
   "source": [
    "# Create color mappings for the dtypes\n",
    "o_counts = df_og.dtypes.value_counts()\n",
    "c_counts = df_clean.dtypes.value_counts()\n",
    "\n",
    "all_dtypes = pd.concat([o_counts, c_counts], axis=1).fillna(0).set_axis(['Original', 'Cleaned'], axis=1)\n",
    "color_map = {dtype: color for dtype, color in zip(all_dtypes.index, COLORS[:len(all_dtypes)])}\n",
    "\n",
    "# Function to show both the percentage and the count of each data type\n",
    "def count_and_pct(pct, data: pd.DataFrame):\n",
    "    return f\"{round(len(data.columns) * pct / 100)} ({pct:.1f}%)\"\n",
    "\n",
    "# Plot the pie charts\n",
    "plt.figure(figsize=(10, 6))\n",
    "\n",
    "# Original Dataset\n",
    "plt.subplot(1,2,1)\n",
    "plt.pie(o_counts, labels=o_counts.index.astype(str), autopct=lambda pct: count_and_pct(pct, df_og), colors=[color_map[d] for d in o_counts.index], startangle=90)\n",
    "plt.title(f'Original Data-types ({len(df_og.columns)})')\n",
    "\n",
    "# Cleaned Dataset\n",
    "plt.subplot(1,2,2)\n",
    "plt.pie(c_counts, labels=c_counts.index.astype(str), autopct=lambda pct: count_and_pct(pct, df_clean), colors=[color_map[d] for d in c_counts.index], startangle=90)\n",
    "plt.title(f'Cleaned Data-types ({len(df_clean.columns)})')\n",
    "\n",
    "plt.tight_layout()\n",
    "save_figure(plt, 'data_types_pie_chart', subfolder='eda')\n",
    "plt.show();"
   ]
  },
  {
   "cell_type": "markdown",
   "metadata": {},
   "source": [
    "Comparison between the distributions of the prices of the listings in the cleaned dataset and the original dataset."
   ]
  },
  {
   "cell_type": "code",
   "execution_count": null,
   "metadata": {},
   "outputs": [],
   "source": [
    "plt.figure(figsize=(12,5))\n",
    "\n",
    "# Original Data\n",
    "plt.subplot(1,2,1)\n",
    "sns.histplot(df_og['price'], bins='auto', kde=True, color=COLORS[0], alpha=0.6)\n",
    "plt.title(\"Original Price Distribution\")\n",
    "plt.xlabel(\"Price ($)\")\n",
    "plt.xlim(0, 1000)\n",
    "\n",
    "# Cleaned Data\n",
    "plt.subplot(1,2,2)\n",
    "sns.histplot(df_clean['price'], bins=100, kde=True, color=COLORS[1], alpha=0.6)\n",
    "plt.title(\"Cleaned Price Distribution\")\n",
    "plt.xlabel(\"Price ($)\")\n",
    "plt.xlim(0, 1000)\n",
    "\n",
    "plt.tight_layout()\n",
    "save_figure(plt, 'price_distribution_histogram', subfolder='eda')\n",
    "plt.show();"
   ]
  },
  {
   "cell_type": "markdown",
   "metadata": {},
   "source": [
    "Outlier Detection before and after cleaning, through boxplot visualization"
   ]
  },
  {
   "cell_type": "code",
   "execution_count": null,
   "metadata": {},
   "outputs": [],
   "source": [
    "plt.figure(figsize=(10,5))\n",
    "\n",
    "# Original Data\n",
    "plt.subplot(1,2,1)\n",
    "sns.boxplot(y=df_og['price'], color=COLORS[0])\n",
    "plt.title('Original Prices')\n",
    "plt.ylabel('Price ($)')\n",
    "\n",
    "# Cleaned Data\n",
    "plt.subplot(1,2,2)\n",
    "sns.boxplot(y=df_clean['price'], color=COLORS[1])\n",
    "plt.title('Cleaned Prices')\n",
    "plt.ylabel('Price ($)')\n",
    "\n",
    "plt.tight_layout()\n",
    "save_figure(plt, 'boxplot_price', subfolder='eda')\n",
    "plt.show();"
   ]
  },
  {
   "cell_type": "markdown",
   "metadata": {},
   "source": [
    "---"
   ]
  },
  {
   "cell_type": "markdown",
   "metadata": {},
   "source": [
    "## Visualizations of the Cleaned Data"
   ]
  },
  {
   "cell_type": "markdown",
   "metadata": {},
   "source": [
    "Create a feature correlation heatmap to visualize the relationships between the features."
   ]
  },
  {
   "cell_type": "code",
   "execution_count": null,
   "metadata": {},
   "outputs": [],
   "source": [
    "# Extract numerical features with the highest correlations to price\n",
    "num_feats = df_clean.select_dtypes(include=['number'])\n",
    "corr = num_feats.corr()['price'].drop('price')\n",
    "abs_corr = corr.abs().sort_values(ascending=False)\n",
    "n_feats = 10 # Number of features to plot\n",
    "top_corr_features = abs_corr.head(n_feats).index.tolist()\n",
    "temp_df = df_clean[top_corr_features + ['price']]\n",
    "\n",
    "# Plot the heatmap\n",
    "plt.figure(figsize=(12,8))\n",
    "sns.heatmap(temp_df.corr(), annot=True, cmap='coolwarm', fmt=\".2f\", linewidths=0.5)\n",
    "plt.title(f\"Top {n_feats} Features with Highest Absolute Correlation to Price\")\n",
    "\n",
    "plt.tight_layout()\n",
    "save_figure(plt, 'top_correlation_heatmap', subfolder='eda')\n",
    "plt.show();"
   ]
  },
  {
   "cell_type": "markdown",
   "metadata": {},
   "source": [
    "Plot the correlation matrix for the numerical features with the highest correlation to the price"
   ]
  },
  {
   "cell_type": "code",
   "execution_count": null,
   "metadata": {},
   "outputs": [],
   "source": [
    "data = df_clean[['price', 'accommodates', 'bedrooms', 'beds', 'bathrooms']]\n",
    "plt.figure(figsize=(10, 8))\n",
    "sns.pairplot(data, diag_kind='kde', corner=True)\n",
    "\n",
    "plt.tight_layout()\n",
    "save_figure(plt, 'pairplot', subfolder='eda')\n",
    "plt.show();"
   ]
  },
  {
   "cell_type": "markdown",
   "metadata": {},
   "source": [
    "---"
   ]
  },
  {
   "cell_type": "markdown",
   "metadata": {},
   "source": [
    "## Check for Normality"
   ]
  },
  {
   "cell_type": "markdown",
   "metadata": {},
   "source": [
    "Use multiple tests to numerically test if the price could be normally distributed."
   ]
  },
  {
   "cell_type": "code",
   "execution_count": null,
   "metadata": {},
   "outputs": [],
   "source": [
    "# Shapiro-Wilk Test\n",
    "stat, p_value = stats.shapiro(df_clean['price'])\n",
    "print(\"Shapiro-Wilk Test:\")\n",
    "print(\"Statistic:\", stat)\n",
    "print(\"p-value:\", p_value)\n",
    "print(\"Verdict: \", \"Reject Normality\" if p_value < 0.05 else \"Fail to reject Normality\")\n",
    "\n",
    "# Anderson-Darling Test\n",
    "result = stats.anderson(df_clean['price'], dist='norm')\n",
    "print(\"\\nAnderson-Darling Test:\")\n",
    "print(\"Statistic:\", result.statistic)\n",
    "print(\"Critical Values:\", result.critical_values)\n",
    "print(\"Significance Levels:\", result.significance_level)\n",
    "print(\"Verdict: \", \"Reject Normality\" if result.statistic > result.critical_values[2] else \"Fail to reject Normality\")\n",
    "\n",
    "# D'Agostino and Pearson's Test\n",
    "stat, p_value = stats.normaltest(df_clean['price'])\n",
    "print(\"\\nD'Agostino and Pearson's Test:\")\n",
    "print(\"Statistic:\", stat)\n",
    "print(\"p-value:\", p_value)\n",
    "print(\"Verdict: \", \"Reject Normality\" if p_value < 0.05 else \"Fail to reject Normality\")\n",
    "\n",
    "# Kolmogorov-Smirnov Test\n",
    "stat, p_value = stats.kstest(df_clean['price'], 'norm', args=(df_clean['price'].mean(), df_clean['price'].std()))\n",
    "print(\"\\nKolmogorov-Smirnov Test:\")\n",
    "print(\"Statistic:\", stat)\n",
    "print(\"p-value:\", p_value)\n",
    "print(\"Verdict: \", \"Reject Normality\" if p_value < 0.05 else \"Fail to reject Normality\")"
   ]
  },
  {
   "cell_type": "markdown",
   "metadata": {},
   "source": [
    "Plot the Q-Q Plot to visualy check for normality."
   ]
  },
  {
   "cell_type": "code",
   "execution_count": null,
   "metadata": {},
   "outputs": [],
   "source": [
    "plt.figure(figsize=(6,6))\n",
    "stats.probplot(df_clean['price'], dist='norm', plot=plt)\n",
    "plt.title('Normal Q-Q Plot for Price')\n",
    "\n",
    "plt.tight_layout()\n",
    "save_figure(plt, 'normal_qq_plot_price', subfolder='eda')\n",
    "plt.show();"
   ]
  }
 ],
 "metadata": {
  "kernelspec": {
   "display_name": ".venv",
   "language": "python",
   "name": "python3"
  },
  "language_info": {
   "codemirror_mode": {
    "name": "ipython",
    "version": 3
   },
   "file_extension": ".py",
   "mimetype": "text/x-python",
   "name": "python",
   "nbconvert_exporter": "python",
   "pygments_lexer": "ipython3",
   "version": "3.11.9"
  }
 },
 "nbformat": 4,
 "nbformat_minor": 2
}
