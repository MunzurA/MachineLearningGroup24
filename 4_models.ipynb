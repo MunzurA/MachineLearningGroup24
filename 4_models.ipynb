{
 "cells": [
  {
   "cell_type": "code",
   "execution_count": null,
   "metadata": {},
   "outputs": [],
   "source": [
    "import numpy as np\n",
    "\n",
    "from sklearn.model_selection import train_test_split\n",
    "\n",
    "from utils.data_cleaning import load_and_clean\n",
    "from utils.models import fit_tune_predict_visualize\n",
    "from utils._config import *"
   ]
  },
  {
   "cell_type": "markdown",
   "metadata": {},
   "source": [
    "## Load in the Data"
   ]
  },
  {
   "cell_type": "code",
   "execution_count": null,
   "metadata": {},
   "outputs": [],
   "source": [
    "df = load_and_clean(verbose=True)"
   ]
  },
  {
   "cell_type": "code",
   "execution_count": null,
   "metadata": {},
   "outputs": [],
   "source": [
    "X = df.drop('price', axis=1)\n",
    "y = df['price']\n",
    "X_train, X_test, y_train, y_test = train_test_split(X, y, test_size=0.2, random_state=RANDOM_STATE)\n",
    "\n",
    "X.shape, y.shape"
   ]
  },
  {
   "cell_type": "markdown",
   "metadata": {},
   "source": [
    "## Linear Regression"
   ]
  },
  {
   "cell_type": "code",
   "execution_count": null,
   "metadata": {},
   "outputs": [],
   "source": [
    "from sklearn.linear_model import LinearRegression\n",
    "\n",
    "model = LinearRegression(n_jobs=-1)\n",
    "param_grid = {\n",
    "    'model_selection__fit_intercept': [True, False],\n",
    "}\n",
    "\n",
    "fit_tune_predict_visualize(\n",
    "    model_name=\"Linear Regression\",\n",
    "    model=model,\n",
    "    df=df,\n",
    "    X_train=X_train,\n",
    "    y_train=y_train,\n",
    "    X_test=X_test,\n",
    "    y_test=y_test,\n",
    "    gscv_param_grid=param_grid,\n",
    ")"
   ]
  },
  {
   "cell_type": "markdown",
   "metadata": {},
   "source": [
    "## K Nearest Neighbors Regression"
   ]
  },
  {
   "cell_type": "code",
   "execution_count": null,
   "metadata": {},
   "outputs": [],
   "source": [
    "from sklearn.neighbors import KNeighborsRegressor\n",
    "\n",
    "model = KNeighborsRegressor(n_jobs=-1)\n",
    "param_grid = {\n",
    "    'model_selection__n_neighbors': [3, 7, 11, 15],  # Number of neighbors\n",
    "    'model_selection__weights': ['uniform', 'distance'],  # Weighting method\n",
    "    'model_selection__p': [1, 2]  # Distance metric (Manhattan or Euclidean)\n",
    "}\n",
    "param_distributions = {\n",
    "    'model_selection__n_neighbors': np.arange(1, 31),  # Randomly sample neighbors\n",
    "    'model_selection__weights': ['uniform', 'distance'],  # Weighting method\n",
    "    'model_selection__p': [1, 2]  # Distance metric\n",
    "}\n",
    "\n",
    "fit_tune_predict_visualize(\n",
    "    model_name=\"K Nearest Neighbors\",\n",
    "    model=model,\n",
    "    df=df,\n",
    "    X_train=X_train,\n",
    "    y_train=y_train,\n",
    "    X_test=X_test,\n",
    "    y_test=y_test,\n",
    "    gscv_param_grid=param_grid,\n",
    "    rscv_param_dist=param_distributions,\n",
    ")"
   ]
  },
  {
   "cell_type": "markdown",
   "metadata": {},
   "source": [
    "## Decision Tree Regression"
   ]
  },
  {
   "cell_type": "code",
   "execution_count": null,
   "metadata": {},
   "outputs": [],
   "source": [
    "from sklearn.tree import DecisionTreeRegressor\n",
    "\n",
    "model = DecisionTreeRegressor(random_state=RANDOM_STATE)\n",
    "param_grid = {\n",
    "    'model_selection__max_depth': [None, 3, 5, 10],  # Maximum depth of the tree\n",
    "    'model_selection__min_samples_split': [2, 5, 10],  # Minimum samples to split a node\n",
    "    'model_selection__min_samples_leaf': [1, 2, 4],  # Minimum samples in a leaf node\n",
    "    'model_selection__max_features': [None, 'sqrt', 'log2'],  # Number of features to consider\n",
    "    \n",
    "}\n",
    "param_distributions = {\n",
    "    'model_selection__max_depth': [None] + list(range(5, 31, 5)),  # Maximum depth of the tree\n",
    "    'model_selection__min_samples_split': np.arange(2, 11),  # Minimum samples to split a node\n",
    "    'model_selection__min_samples_leaf': np.arange(1, 11),  # Minimum samples in a leaf node\n",
    "    'model_selection__max_features': [None, 'sqrt', 'log2'],  # Number of features to consider\n",
    "    \n",
    "}\n",
    "\n",
    "fit_tune_predict_visualize(\n",
    "    model_name=\"Decision Tree\",\n",
    "    model=model,\n",
    "    df=df,\n",
    "    X_train=X_train,\n",
    "    y_train=y_train,\n",
    "    X_test=X_test,\n",
    "    y_test=y_test,\n",
    "    gscv_param_grid=param_grid,\n",
    "    rscv_param_dist=param_distributions,\n",
    ")"
   ]
  },
  {
   "cell_type": "markdown",
   "metadata": {},
   "source": [
    "## Elastic Net Regression"
   ]
  },
  {
   "cell_type": "code",
   "execution_count": null,
   "metadata": {},
   "outputs": [],
   "source": [
    "from sklearn.linear_model import ElasticNet\n",
    "\n",
    "model = ElasticNet(random_state=RANDOM_STATE)\n",
    "param_grid = {\n",
    "    'model_selection__alpha': [0.0001, 0.001, 0.01, 0.1, 1.0, 10.0],  # Regularization strength\n",
    "    'model_selection__l1_ratio': [0.1, 0.3, 0.5, 0.7, 0.9],  # Balance between L1 and L2\n",
    "}\n",
    "param_distributions = {\n",
    "    'model_selection__alpha': np.logspace(-4, 1, 20),  # Regularization strength (log scale)\n",
    "    'model_selection__l1_ratio': np.linspace(0.1, 1.0, 10),  # Balance between L1 and L2\n",
    "}\n",
    "\n",
    "fit_tune_predict_visualize(\n",
    "    model_name=\"Elastic Net\",\n",
    "    model=model,\n",
    "    df=df,\n",
    "    X_train=X_train,\n",
    "    y_train=y_train,\n",
    "    X_test=X_test,\n",
    "    y_test=y_test,\n",
    "    gscv_param_grid=param_grid,\n",
    "    rscv_param_dist=param_distributions,\n",
    ")"
   ]
  }
 ],
 "metadata": {
  "kernelspec": {
   "display_name": ".venv",
   "language": "python",
   "name": "python3"
  },
  "language_info": {
   "codemirror_mode": {
    "name": "ipython",
    "version": 3
   },
   "file_extension": ".py",
   "mimetype": "text/x-python",
   "name": "python",
   "nbconvert_exporter": "python",
   "pygments_lexer": "ipython3",
   "version": "3.11.9"
  }
 },
 "nbformat": 4,
 "nbformat_minor": 2
}
