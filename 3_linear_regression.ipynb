{
 "cells": [
  {
   "cell_type": "code",
   "execution_count": null,
   "metadata": {},
   "outputs": [],
   "source": [
    "import pandas as pd\n",
    "from sklearn.linear_model import LinearRegression\n",
    "from sklearn.model_selection import train_test_split\n",
    "from sklearn.metrics import root_mean_squared_error,mean_squared_error, mean_absolute_error, r2_score, root_mean_squared_log_error, mean_squared_log_error\n",
    "from sklearn.preprocessing import MinMaxScaler\n",
    "import numpy as np\n",
    "import matplotlib.pyplot as plt\n",
    "import seaborn as sns\n",
    "\n",
    "from utils.pipeline import create_pipeline\n",
    "from utils.data_cleaning import load_and_clean\n",
    "from utils import save_figure\n",
    "\n",
    "import warnings\n",
    "warnings.filterwarnings('ignore')"
   ]
  },
  {
   "cell_type": "code",
   "execution_count": null,
   "metadata": {},
   "outputs": [],
   "source": [
    "df = load_and_clean(verbose=True)"
   ]
  },
  {
   "cell_type": "code",
   "execution_count": null,
   "metadata": {},
   "outputs": [],
   "source": [
    "X = df.drop('price', axis=1) #Features\n",
    "\n",
    "y = df['price'] #Target"
   ]
  },
  {
   "cell_type": "code",
   "execution_count": null,
   "metadata": {},
   "outputs": [],
   "source": [
    "model = LinearRegression() #Create linear regression model\n",
    "pipeline = create_pipeline(df, model=model) #Create pipeline for linear regression"
   ]
  },
  {
   "cell_type": "code",
   "execution_count": null,
   "metadata": {},
   "outputs": [],
   "source": [
    "X_train, X_test, y_train, y_test = train_test_split(X, y, test_size=0.2, random_state=42) #Split data into training and testing sets"
   ]
  },
  {
   "cell_type": "code",
   "execution_count": null,
   "metadata": {},
   "outputs": [],
   "source": [
    "# Fit the pipeline and predict\n",
    "pipeline.fit(X_train, y_train)\n",
    "y_pred = pipeline.predict(X_test)\n",
    "\n",
    "print(\"y shape:\", y_test.shape)\n",
    "print(\"y_pred shape:\", y_pred.shape)"
   ]
  },
  {
   "cell_type": "code",
   "execution_count": null,
   "metadata": {},
   "outputs": [],
   "source": [
    "#Evaluation\n",
    "print(f\"\"\"\n",
    "      Values of Target 'price':\n",
    "      {'-' * 80}\n",
    "      predicted y values:\n",
    "      {y_pred.tolist()[:10]}\n",
    "\n",
    "      actual y values:\n",
    "      {y_test.tolist()[:10]}\n",
    "\n",
    "\n",
    "\n",
    "      Model Performance Metrics:\n",
    "      {'-' * 80}\n",
    "      {'mean squared error:': <30} {mean_squared_error(y_test, y_pred):.5f}\n",
    "      {'root mean squared error:': <30} {root_mean_squared_error(y_test, y_pred):.5f}\n",
    "      {'mean squared log error:': <30} {mean_squared_log_error(y_test, y_pred):.5f}\n",
    "      {'mean absolute error:': <30} {mean_absolute_error(y_test, y_pred):.5f}\n",
    "      {'r2 score:': <30} {r2_score(y_test, y_pred):.5f}\n",
    "      \"\"\")\n",
    "\n"
   ]
  },
  {
   "cell_type": "code",
   "execution_count": null,
   "metadata": {},
   "outputs": [],
   "source": [
    "#Eval in table\n",
    "model_name = \"Linear Regression\"\n",
    "\n",
    "mse = mean_squared_error(y_test, y_pred)\n",
    "rmse = np.sqrt(mse)  # Root Mean Squared Error\n",
    "mae = mean_absolute_error(y_test, y_pred)\n",
    "r2 = r2_score(y_test, y_pred)\n",
    "\n",
    "metrics_df = pd.DataFrame({\n",
    "    \"Metric\": [\"Model Name\", \"Mean Squared Error (MSE)\", \"Root Mean Squared Error (RMSE)\", \"Mean Absolute Error (MAE)\", \"R² Score\"],\n",
    "    \"Score\": [model_name, mse, rmse, mae, r2]\n",
    "})\n",
    "\n",
    "fig, ax = plt.subplots(figsize=(8, 4))  # Adjust the figure size as needed\n",
    "ax.axis('tight')\n",
    "ax.axis('off')\n",
    "table = ax.table(cellText=metrics_df.values, colLabels=metrics_df.columns, loc='center', cellLoc='center')\n",
    "\n",
    "save_figure(fig, \"linear regression metrics\", subfolder=\"linear regression\")"
   ]
  },
  {
   "cell_type": "code",
   "execution_count": null,
   "metadata": {},
   "outputs": [],
   "source": [
    "# Calculate residuals\n",
    "residuals = y_test - y_pred\n",
    "\n",
    "# Plot residuals\n",
    "plt.figure(figsize=(10, 6))\n",
    "sns.scatterplot(x=y_pred, y=residuals, alpha=0.5)\n",
    "plt.axhline(0, color='red', linestyle='--')\n",
    "plt.xlabel(\"Predicted Values\")\n",
    "plt.ylabel(\"Residuals\")\n",
    "plt.title(\"Residual Plot\")\n",
    "\n",
    "# Save the figure\n",
    "fig = plt.gcf()  # Get the current figure\n",
    "save_figure(fig, \"linear regression residuals\", subfolder=\"linear regression\")\n",
    "\n",
    "# Show the plot\n",
    "plt.show()"
   ]
  },
  {
   "cell_type": "code",
   "execution_count": null,
   "metadata": {},
   "outputs": [],
   "source": [
    "# Plot actual vs predicted\n",
    "plt.figure(figsize=(8, 6))\n",
    "sns.scatterplot(x=y_test, y=y_pred)\n",
    "plt.plot([y_test.min(), y_test.max()], [y_test.min(), y_test.max()], color='red', linestyle='--')\n",
    "plt.xlabel(\"Actual Values\")\n",
    "plt.ylabel(\"Predicted Values\")\n",
    "plt.title(\"Actual vs Predicted Values\")\n",
    "\n",
    "# Save the figure\n",
    "fig = plt.gcf()  # Get the current figure\n",
    "save_figure(fig, \"linear regression actual vs predicted\", subfolder=\"linear regression\")\n",
    "\n",
    "plt.show()"
   ]
  },
  {
   "cell_type": "code",
   "execution_count": null,
   "metadata": {},
   "outputs": [],
   "source": [
    "# Plot distribution of residuals\n",
    "plt.figure(figsize=(8, 6))\n",
    "sns.histplot(residuals, kde=True, bins=30)\n",
    "plt.xlabel(\"Residuals\")\n",
    "plt.title(\"Distribution of Residuals\")\n",
    "\n",
    "# Save the figure\n",
    "fig = plt.gcf()  # Get the current figure\n",
    "save_figure(fig, \"linear regression residuals distribution\", subfolder=\"linear regression\")\n",
    "\n",
    "plt.show()"
   ]
  },
  {
   "cell_type": "code",
   "execution_count": null,
   "metadata": {},
   "outputs": [],
   "source": [
    "from sklearn.model_selection import learning_curve\n",
    "import numpy as np"
   ]
  },
  {
   "cell_type": "code",
   "execution_count": null,
   "metadata": {},
   "outputs": [],
   "source": [
    "# Generate learning curve\n",
    "train_sizes, train_scores, test_scores = learning_curve(\n",
    "    pipeline, X_train, y_train, cv=5, scoring='r2', n_jobs=-1, train_sizes=np.linspace(0.1, 1.0, 10)\n",
    ")\n",
    "\n",
    "# Calculate mean and standard deviation\n",
    "train_mean = np.mean(train_scores, axis=1)\n",
    "train_std = np.std(train_scores, axis=1)\n",
    "test_mean = np.mean(test_scores, axis=1)\n",
    "test_std = np.std(test_scores, axis=1)\n",
    "\n",
    "# Plot learning curve\n",
    "plt.figure(figsize=(8, 6))\n",
    "plt.plot(train_sizes, train_mean, label=\"Training Score\", color=\"blue\")\n",
    "plt.plot(train_sizes, test_mean, label=\"Cross-Validation Score\", color=\"orange\")\n",
    "plt.fill_between(train_sizes, train_mean - train_std, train_mean + train_std, color=\"blue\", alpha=0.2)\n",
    "plt.fill_between(train_sizes, test_mean - test_std, test_mean + test_std, color=\"orange\", alpha=0.2)\n",
    "plt.xlabel(\"Training Set Size\")\n",
    "plt.ylabel(\"R² Score\")\n",
    "plt.title(\"Learning Curve\")\n",
    "plt.legend()\n",
    "\n",
    "# Save the figure\n",
    "fig = plt.gcf()  # Get the current figure\n",
    "save_figure(fig, \"linear regression learning curve\", subfolder=\"linear regression\")\n",
    "\n",
    "plt.show()"
   ]
  },
  {
   "cell_type": "code",
   "execution_count": null,
   "metadata": {},
   "outputs": [],
   "source": [
    "from sklearn.model_selection import GridSearchCV\n",
    "\n",
    "# Define the hyperparameters to tune\n",
    "param_grid = {\n",
    "    'model_selection__fit_intercept': [True, False]\n",
    "}\n",
    "\n",
    "# Create a GridSearchCV object\n",
    "grid_search = GridSearchCV(\n",
    "    estimator=pipeline,\n",
    "    param_grid=param_grid,\n",
    "    cv=5,  # 5-fold cross-validation\n",
    "    scoring='r2',  # Metric to optimize\n",
    "    n_jobs=-1  # Use all available cores\n",
    ")\n",
    "\n",
    "# Perform the grid search\n",
    "grid_search.fit(X_train, y_train)\n",
    "\n",
    "# Print the best parameters and score\n",
    "print(\"Best Parameters:\", grid_search.best_params_)\n",
    "print(\"Best R² Score:\", grid_search.best_score_)"
   ]
  },
  {
   "cell_type": "code",
   "execution_count": null,
   "metadata": {},
   "outputs": [],
   "source": [
    "from joblib import dump\n",
    "\n",
    "dump(pipeline, 'linear_regression.joblib')"
   ]
  }
 ],
 "metadata": {
  "kernelspec": {
   "display_name": "venv",
   "language": "python",
   "name": "python3"
  },
  "language_info": {
   "codemirror_mode": {
    "name": "ipython",
    "version": 3
   },
   "file_extension": ".py",
   "mimetype": "text/x-python",
   "name": "python",
   "nbconvert_exporter": "python",
   "pygments_lexer": "ipython3",
   "version": "3.11.9"
  }
 },
 "nbformat": 4,
 "nbformat_minor": 2
}
