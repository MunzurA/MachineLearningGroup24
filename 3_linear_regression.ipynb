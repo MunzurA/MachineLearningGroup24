{
 "cells": [
  {
   "cell_type": "code",
   "execution_count": 6,
   "metadata": {},
   "outputs": [],
   "source": [
    "import pandas as pd\n",
    "from sklearn.linear_model import LinearRegression\n",
    "from sklearn.model_selection import train_test_split, cross_val_score\n",
    "from sklearn.metrics import mean_squared_error, accuracy_score, f1_score, roc_auc_score, log_loss\n",
    "from sklearn.preprocessing import MinMaxScaler\n",
    "from time import time\n",
    "import numpy as np\n",
    "\n",
    "from utils.pipeline import create_pipeline\n",
    "from utils.data_cleaning import load_and_clean"
   ]
  },
  {
   "cell_type": "code",
   "execution_count": 48,
   "metadata": {},
   "outputs": [],
   "source": [
    "df = load_and_clean() #Load and clean dataset"
   ]
  },
  {
   "cell_type": "code",
   "execution_count": 71,
   "metadata": {},
   "outputs": [],
   "source": [
    "X = df.drop('price', axis=1) #Features\n",
    "\n",
    "y = df['price'] #Target"
   ]
  },
  {
   "cell_type": "code",
   "execution_count": 72,
   "metadata": {},
   "outputs": [],
   "source": [
    "pipeline = create_pipeline(df) #Create pipeline for linear regression"
   ]
  },
  {
   "cell_type": "code",
   "execution_count": 73,
   "metadata": {},
   "outputs": [],
   "source": [
    "X_train, X_test, y_train, y_test = train_test_split(X, y, test_size=0.2, random_state=42) #Split data into training and testing sets"
   ]
  },
  {
   "cell_type": "code",
   "execution_count": 74,
   "metadata": {},
   "outputs": [
    {
     "name": "stdout",
     "output_type": "stream",
     "text": [
      "x_train shape: (49683, 41)\n",
      "x_test shape: (12421, 41)\n",
      "y_train shape: (49683,)\n",
      "Missing values in x_train: 107776\n",
      "Missing values in x_test: 26785\n"
     ]
    }
   ],
   "source": [
    "#debug\n",
    "print(\"x_train shape:\", X_train.shape)\n",
    "print(\"x_test shape:\", X_test.shape)\n",
    "print(\"y_train shape:\", y_train.shape)\n",
    "print(\"Missing values in x_train:\", X_train.isnull().sum().sum())\n",
    "print(\"Missing values in x_test:\", X_test.isnull().sum().sum())"
   ]
  },
  {
   "cell_type": "code",
   "execution_count": 75,
   "metadata": {},
   "outputs": [],
   "source": [
    "# Fit the pipeline and predict\n",
    "start = time()\n",
    "pipeline.fit(X_train, y_train)\n",
    "y_pred = pipeline.predict(X_test)\n",
    "execution_time = time() - start"
   ]
  },
  {
   "cell_type": "code",
   "execution_count": 83,
   "metadata": {},
   "outputs": [
    {
     "name": "stderr",
     "output_type": "stream",
     "text": [
      "c:\\A.I\\MachineLearningGroup24\\venv\\Lib\\site-packages\\sklearn\\preprocessing\\_label.py:909: UserWarning: unknown class(es) ['photographer'] will be ignored\n",
      "  warnings.warn(\n"
     ]
    }
   ],
   "source": [
    "#Evaluation\n",
    "mse = mean_squared_error(y_test, y_pred)\n",
    "\n",
    "y_binary = y_test > y_test.median()\n",
    "y_pred_binary = y_pred > y_test.median()\n",
    "\n",
    "accuracy = accuracy_score(y_binary, y_pred_binary)\n",
    "f1 = f1_score(y_binary, y_pred_binary)\n",
    "roc_auc = roc_auc_score(y_binary, y_pred)\n",
    "\n",
    "# Log loss requires probabilities between 0 and 1\n",
    "y_pred_proba = MinMaxScaler().fit_transform(y_pred.reshape(-1, 1))\n",
    "logloss_value = log_loss(y_binary, y_pred_proba)\n",
    "\n",
    "# Cross-validation scores\n",
    "cv_scores = cross_val_score(\n",
    "    pipeline, X, y, cv=5, scoring='neg_mean_squared_error'\n",
    ")\n"
   ]
  },
  {
   "cell_type": "code",
   "execution_count": 84,
   "metadata": {},
   "outputs": [
    {
     "name": "stdout",
     "output_type": "stream",
     "text": [
      "Execution Time: 4.85s\n",
      "MSE: 13084.55\n",
      "Accuracy: 0.82\n",
      "F1 Score: 0.82\n",
      "ROC-AUC: 0.90\n",
      "Log Loss: 0.85\n",
      "Cross-Validation MSE: -16703.46\n"
     ]
    }
   ],
   "source": [
    "# Output results\n",
    "print(f\"Execution Time: {execution_time:.2f}s\")\n",
    "print(f\"MSE: {mse:.2f}\")\n",
    "print(f\"Accuracy: {accuracy:.2f}\")\n",
    "print(f\"F1 Score: {f1:.2f}\")\n",
    "print(f\"ROC-AUC: {roc_auc:.2f}\")\n",
    "print(f\"Log Loss: {logloss_value:.2f}\")\n",
    "print(f\"Cross-Validation MSE: {cv_scores.mean():.2f}\")"
   ]
  }
 ],
 "metadata": {
  "kernelspec": {
   "display_name": "venv",
   "language": "python",
   "name": "python3"
  },
  "language_info": {
   "codemirror_mode": {
    "name": "ipython",
    "version": 3
   },
   "file_extension": ".py",
   "mimetype": "text/x-python",
   "name": "python",
   "nbconvert_exporter": "python",
   "pygments_lexer": "ipython3",
   "version": "3.11.9"
  }
 },
 "nbformat": 4,
 "nbformat_minor": 2
}
